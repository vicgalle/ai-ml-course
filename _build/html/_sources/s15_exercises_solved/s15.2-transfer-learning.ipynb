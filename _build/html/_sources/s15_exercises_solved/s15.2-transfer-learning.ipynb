{
 "cells": [
  {
   "cell_type": "markdown",
   "metadata": {},
   "source": [
    "### Exercise: Plant Disease App\n",
    "\n",
    "We want to build a plant disease app that can detect wether a plant is healthy or has a disease, given a photo of its leave 🍃. These are a few examples for each condition:\n",
    "\n",
    "| Healthy  | Angular Leaf Spot  | Bean Rust |\n",
    "|---|---|---|\n",
    "| ![](exercise_2/healthy/healthy_train.0.jpg)  | ![](exercise_2/angular_leaf_spot/angular_leaf_spot_train.215.jpg)  | ![](exercise_2/bean_rust/bean_rust_train.214.jpg)  |"
   ]
  },
  {
   "cell_type": "markdown",
   "metadata": {},
   "source": [
    "All the images are located in the `exercise_2` folder, already splited into the three different conditions."
   ]
  },
  {
   "cell_type": "markdown",
   "metadata": {},
   "source": [
    "**a)** Discuss, in your own words, how would you approach this problem. \n",
    "\n",
    "That is, what type of learning problem is, and the kind of models you can use to solve it."
   ]
  },
  {
   "cell_type": "markdown",
   "metadata": {},
   "source": [
    "\n",
    "\n",
    "\n",
    "\n"
   ]
  },
  {
   "cell_type": "markdown",
   "metadata": {},
   "source": [
    "**b)** Implement a solution based on what you previously described. \n",
    "**Important: you must evaluate your model over a test set, and report the appropriate metrics for your model.**\n",
    "\n",
    "As a starter, you can use the following code to get all the file_paths and the labels for each image:"
   ]
  },
  {
   "cell_type": "code",
   "execution_count": 1,
   "metadata": {},
   "outputs": [],
   "source": [
    "import pandas as pd\n",
    "import glob"
   ]
  },
  {
   "cell_type": "code",
   "execution_count": 2,
   "metadata": {},
   "outputs": [],
   "source": [
    "image_paths = glob.glob('exercise_3/*/*')\n",
    "\n",
    "labels = []\n",
    "\n",
    "for image_path in image_paths:\n",
    "    labels.append(image_path.split('/')[1].split('/')[0])"
   ]
  },
  {
   "cell_type": "code",
   "execution_count": null,
   "metadata": {},
   "outputs": [],
   "source": [
    "\n",
    "\n"
   ]
  }
 ],
 "metadata": {
  "kernelspec": {
   "display_name": "base",
   "language": "python",
   "name": "python3"
  },
  "language_info": {
   "codemirror_mode": {
    "name": "ipython",
    "version": 3
   },
   "file_extension": ".py",
   "mimetype": "text/x-python",
   "name": "python",
   "nbconvert_exporter": "python",
   "pygments_lexer": "ipython3",
   "version": "3.9.7"
  }
 },
 "nbformat": 4,
 "nbformat_minor": 2
}
