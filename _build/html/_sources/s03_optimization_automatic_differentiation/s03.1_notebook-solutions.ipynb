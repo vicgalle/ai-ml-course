{
 "cells": [
  {
   "cell_type": "markdown",
   "metadata": {},
   "source": [
    "# Review of Optimization"
   ]
  },
  {
   "cell_type": "markdown",
   "metadata": {},
   "source": [
    "Let's suppose we want to minimize the following function:\n",
    "\n",
    "$$\n",
    "f(x) = x^2.\n",
    "$$\n",
    "\n",
    "\n",
    "One way to do this is to compute its derivative and find the points where the derivative is zero:\n",
    "\n",
    "$$ \n",
    "f'(x) = 2x\n",
    "$$\n",
    "\n",
    "Setting the derivative equal to zero, we find:\n",
    "\n",
    "$$\n",
    "2x = 0 \\Rightarrow x = 0\n",
    "$$\n",
    "\n",
    "So the minimum of the function is achieved at point x = 0.\n",
    "\n",
    "But for complex functions, finding the minimum analytically might be particularly hard or even impossible. Here is where the algorithm of gradient descent comes in handy. \n",
    "\n",
    "**Gradient Descent** is an optimization algorithm used to find the values of parameters, which minimize a cost function. **It's an iterative approach to finding the minimum of a function**. \n",
    "\n",
    "Here's how the gradient descent algorithm works:\n",
    "\n",
    "1. Choose initial guess $x^{(0)}$ and learning rate $\\alpha$.\n",
    "2. Update $x^{(t)}$ with the rule $x^{(t+1)} = x^{(t)} - \\alpha \\nabla f(x^{(t)})$ until convergence.\n",
    "\n",
    "* The intuition behind this algorithm is that we start with a guess for the minimum of the function, and then we move this guess downhill until we reach a point where the gradient is zero, signaling that we have reached a minimum. With a small step size, we should have $f(x^{(t+1)}) \\leq f(x^{(t)})$, so repeating this process should eventually converge to a (local) minimum (or saddle point).\n",
    "  \n",
    "* The learning rate, often denoted by $\\alpha$, is a hyper-parameter that determines the step size at each iteration while moving toward a minimum of a loss function. Also, the $\\nabla$ symbol represents the derivative (also called gradient).\n",
    "  \n",
    "Given our function $f(x) = x^2$, the update rule becomes:\n",
    "\n",
    "$$ \n",
    "x^{(t+1)} = x^{(t)} - \\alpha * 2 * x^{(t)}\n",
    "$$\n",
    "\n",
    "From this process, we can pick a point, calculate the gradient at that point, subtract some multiple of the gradient from the point's coordinates to find the new point, and repeat the process until we find a point where the gradient is near zero, signaling that the minimum of the function has been found.\n",
    "\n",
    "The advantage of this approach is that we only need to compute the derivative (or gradient) at one point at a time, rather than needing to solve the equation for the derivative equal to zero.\n",
    "\n",
    "Remember, to use gradient descent effectively, you should probably spend some time tuning the learning rate because if the learning rate is too small, then convergence will be excessively slow, but if the learning rate is too large you might skip the optimal solution or might not converge at all. \n",
    "\n",
    "In conclusion, that's how gradient descent algorithm works, a useful iterative method for finding the local minimum of differentiable functions. It provides a general approach to optimizing complex functions, and it's the backbone of many machine learning algorithms."
   ]
  },
  {
   "cell_type": "markdown",
   "metadata": {},
   "source": [
    "### Python implementation"
   ]
  },
  {
   "cell_type": "code",
   "execution_count": 41,
   "metadata": {},
   "outputs": [],
   "source": [
    "import numpy as np\n",
    "\n",
    "import matplotlib.pyplot as plt\n",
    "import matplotlib.cm as cm"
   ]
  },
  {
   "cell_type": "code",
   "execution_count": 42,
   "metadata": {},
   "outputs": [],
   "source": [
    "# define the function\n",
    "def f(x):\n",
    "    return x**2\n",
    "\n",
    "# define the derivative of the function\n",
    "def df(x):\n",
    "    return 2*x"
   ]
  },
  {
   "cell_type": "code",
   "execution_count": 43,
   "metadata": {},
   "outputs": [],
   "source": [
    "# gradient descent function\n",
    "def gradient_descent(learning_rate, x_start, num_iterations):\n",
    "    x = x_start\n",
    "    history = [x] # to store the trajectory of each iteration\n",
    "\n",
    "    for i in range(num_iterations):\n",
    "        x = x - learning_rate * df(x) \n",
    "        history.append(x)\n",
    "    \n",
    "    return history"
   ]
  },
  {
   "cell_type": "code",
   "execution_count": 48,
   "metadata": {},
   "outputs": [],
   "source": [
    "# parameters\n",
    "x_start = -5  # initial guess\n",
    "learning_rate = 0.2\n",
    "num_iterations = 20\n",
    "\n",
    "# perform gradient descent\n",
    "trajectory = gradient_descent(learning_rate, x_start, num_iterations)"
   ]
  },
  {
   "cell_type": "code",
   "execution_count": 49,
   "metadata": {},
   "outputs": [
    {
     "data": {
      "text/plain": [
       "[-5,\n",
       " -3.0,\n",
       " -1.7999999999999998,\n",
       " -1.0799999999999998,\n",
       " -0.6479999999999999,\n",
       " -0.3887999999999999,\n",
       " -0.23327999999999993,\n",
       " -0.13996799999999995,\n",
       " -0.08398079999999997,\n",
       " -0.05038847999999998,\n",
       " -0.030233087999999984,\n",
       " -0.018139852799999988,\n",
       " -0.010883911679999993,\n",
       " -0.006530347007999996,\n",
       " -0.0039182082047999976,\n",
       " -0.0023509249228799984,\n",
       " -0.001410554953727999,\n",
       " -0.0008463329722367994,\n",
       " -0.0005077997833420796,\n",
       " -0.0003046798700052478,\n",
       " -0.00018280792200314866]"
      ]
     },
     "execution_count": 49,
     "metadata": {},
     "output_type": "execute_result"
    }
   ],
   "source": [
    "trajectory"
   ]
  },
  {
   "cell_type": "code",
   "execution_count": 50,
   "metadata": {},
   "outputs": [],
   "source": [
    "# plot the function with the trajectory\n",
    "def plot_function_trajectory(trajectory):\n",
    "    x = np.linspace(-6, 6, 400)\n",
    "    y = f(x)\n",
    "\n",
    "    plt.figure(figsize=[10,5])\n",
    "    plt.plot(x, y, label=r'$f(x)=x^2$')\n",
    "\n",
    "    colors = cm.rainbow(np.linspace(0, 1, len(trajectory)))\n",
    "    plt.scatter(trajectory, [f(i) for i in trajectory], color=colors)\n",
    "\n",
    "    plt.title('Gradient Descent Optimization')\n",
    "    plt.xlabel('x')\n",
    "    plt.ylabel('f(x)')\n",
    "    plt.legend()\n",
    "    plt.grid(True)\n",
    "    plt.show()"
   ]
  },
  {
   "cell_type": "code",
   "execution_count": 51,
   "metadata": {},
   "outputs": [
    {
     "data": {
      "image/png": "[encoded data removed]",
      "text/plain": [
       "<Figure size 720x360 with 1 Axes>"
      ]
     },
     "metadata": {
      "needs_background": "light"
     },
     "output_type": "display_data"
    }
   ],
   "source": [
    "plot_function_trajectory(trajectory)"
   ]
  },
  {
   "cell_type": "markdown",
   "metadata": {},
   "source": [
    "We see that the last point is very close to zero (gradient descent converged to the minimum)"
   ]
  },
  {
   "cell_type": "markdown",
   "metadata": {},
   "source": [
    "**Exercise** What happens if we change the learning rate to 0.01?"
   ]
  },
  {
   "cell_type": "code",
   "execution_count": 54,
   "metadata": {},
   "outputs": [
    {
     "data": {
      "image/png": "[encoded data removed]",
      "text/plain": [
       "<Figure size 720x360 with 1 Axes>"
      ]
     },
     "metadata": {
      "needs_background": "light"
     },
     "output_type": "display_data"
    }
   ],
   "source": [
    "# parameters\n",
    "x_start = -5  # initial guess\n",
    "learning_rate = 0.01\n",
    "num_iterations = 2000\n",
    "\n",
    "# perform gradient descent\n",
    "trajectory = gradient_descent(learning_rate, x_start, num_iterations)\n",
    "\n",
    "plot_function_trajectory(trajectory)"
   ]
  },
  {
   "cell_type": "markdown",
   "metadata": {},
   "source": [
    "**Exercise** What happens if we change the learning rate to 1.5?"
   ]
  },
  {
   "cell_type": "code",
   "execution_count": 55,
   "metadata": {},
   "outputs": [
    {
     "data": {
      "image/png": "[encoded data removed]",
      "text/plain": [
       "<Figure size 720x360 with 1 Axes>"
      ]
     },
     "metadata": {
      "needs_background": "light"
     },
     "output_type": "display_data"
    }
   ],
   "source": [
    "# parameters\n",
    "x_start = -5  # initial guess\n",
    "learning_rate = 1.5\n",
    "num_iterations = 20\n",
    "\n",
    "# perform gradient descent\n",
    "trajectory = gradient_descent(learning_rate, x_start, num_iterations)\n",
    "\n",
    "plot_function_trajectory(trajectory)\n",
    "\n",
    "\n",
    "\n",
    "\n",
    "\n"
   ]
  },
  {
   "cell_type": "markdown",
   "metadata": {},
   "source": [
    "### Review of gradients of multivariate functions\n",
    "\n",
    "The same ideas can be applied to functions of multiple variables. For example, consider the function $f : \\mathbb{R}^3 \\rightarrow \\mathbb{R}$ defined by:\n",
    "\n",
    "$$\n",
    "f(x, y, z) = x^2 + 3y^2 + 5z^2\n",
    "$$\n",
    "\n",
    "The gradient of this function is a vector of three components (since the function has three variables), in which each component is the partial derivative of the function with respect that variable. In this case, we have:\n",
    "\n",
    "$$\n",
    "\\nabla f(x, y, z) = \\left( \\frac{\\partial f}{\\partial x}, \\frac{\\partial f}{\\partial y}, \\frac{\\partial f}{\\partial z} \\right) = (2x, 6y, 10z)"
   ]
  },
  {
   "cell_type": "markdown",
   "metadata": {},
   "source": [
    "Note: Since the gradient has the same number of components as the inputs of the function, we can still apply the same idea of gradient descent to find the minimum of the function. The only difference is that now we need to update all the components of the input vector at the same time. For example, if we start with an initial guess $(x^{(0)}, y^{(0)}, z^{(0)})$, then the update rule becomes:\n",
    "\n",
    "$$\n",
    "(x^{(t+1)}, y^{(t+1)}, z^{(t+1)}) = (x^{(t)}, y^{(t)}, z^{(t)}) - \\alpha \\nabla f(x^{(t)}, y^{(t)}, z^{(t)})\n",
    "$$"
   ]
  },
  {
   "cell_type": "code",
   "execution_count": null,
   "metadata": {},
   "outputs": [],
   "source": []
  },
  {
   "cell_type": "markdown",
   "metadata": {},
   "source": [
    "# Automatic Differentiation\n",
    "\n",
    "Automatic Differentiation (AD), also known as algorithmic differentiation or computational differentiation, is a set of techniques to numerically evaluate the derivative of a function specified by a computer program. \n",
    "\n",
    "AD exploits the fact that every computer program, no matter how complex, executes a sequence of elementary arithmetic operations such as addition, subtraction, multiplication, division, etc., and elementary functions such as exp, log, sin, cos, etc. By applying the chain rule repeatedly to these operations, derivatives of arbitrary order can be computed automatically, accurately to working precision, and using at most a small constant factor more arithmetic operations than the original program."
   ]
  },
  {
   "cell_type": "markdown",
   "metadata": {},
   "source": [
    "![image](https://www.aws.ps/wp-content/uploads/2020/01/tensorflow-vs-pytorch.png)"
   ]
  },
  {
   "cell_type": "markdown",
   "metadata": {},
   "source": [
    "The most popular libraries for AD are TensorFlow and PyTorch.\n",
    "\n",
    "* TensorFlow, developed by Google https://www.tensorflow.org\n",
    "* PyTorch, developed by Meta (Facebook) https://pytorch.org"
   ]
  },
  {
   "cell_type": "markdown",
   "metadata": {},
   "source": [
    "![image](images/comparison.png)"
   ]
  },
  {
   "cell_type": "markdown",
   "metadata": {},
   "source": [
    "In this course, we will mainly focus on Pytorch, since it is more flexible and has gained more popularity in the recent years (which means more support)."
   ]
  },
  {
   "cell_type": "markdown",
   "metadata": {},
   "source": [
    "You can install following the instructions in the official website:\n",
    "\n",
    "https://pytorch.org/get-started/locally/\n",
    "\n",
    "which typically just involves running the following command:\n",
    "\n",
    "```bash\n",
    "pip install torch\n",
    "```"
   ]
  },
  {
   "cell_type": "code",
   "execution_count": 57,
   "metadata": {},
   "outputs": [],
   "source": [
    "import torch\n",
    "import numpy as np"
   ]
  },
  {
   "cell_type": "markdown",
   "metadata": {},
   "source": [
    "### Tensors\n",
    "\n",
    "Tensors are the PyTorch equivalent to Numpy arrays, with the addition to also have support for automatic differentiation (more on this later). The name “tensor” is a generalization of concepts you already know. For instance, a vector is a 1-D tensor, and a matrix a 2-D tensor. When working with neural networks, we will use tensors of various shapes and number of dimensions.\n",
    "\n",
    "Most common functions you know from numpy can be used on tensors as well."
   ]
  },
  {
   "cell_type": "code",
   "execution_count": 58,
   "metadata": {},
   "outputs": [
    {
     "data": {
      "text/plain": [
       "tensor([[1., 2.],\n",
       "        [3., 4.]])"
      ]
     },
     "execution_count": 58,
     "metadata": {},
     "output_type": "execute_result"
    }
   ],
   "source": [
    "x = torch.Tensor([[1, 2], [3, 4]])\n",
    "x"
   ]
  },
  {
   "cell_type": "code",
   "execution_count": 59,
   "metadata": {},
   "outputs": [
    {
     "data": {
      "text/plain": [
       "tensor([0., 0., 0., 0., 0., 0., 0., 0., 0., 0.])"
      ]
     },
     "execution_count": 59,
     "metadata": {},
     "output_type": "execute_result"
    }
   ],
   "source": [
    "x = torch.zeros(10)\n",
    "x"
   ]
  },
  {
   "cell_type": "code",
   "execution_count": 60,
   "metadata": {},
   "outputs": [
    {
     "data": {
      "text/plain": [
       "tensor([[ 0.9499, -0.2473, -0.4399],\n",
       "        [-0.8217,  1.3747, -0.7969],\n",
       "        [-0.5173,  0.9696,  0.3041]])"
      ]
     },
     "execution_count": 60,
     "metadata": {},
     "output_type": "execute_result"
    }
   ],
   "source": [
    "x = torch.randn(3, 3)\n",
    "x"
   ]
  },
  {
   "cell_type": "markdown",
   "metadata": {},
   "source": [
    "You can obtain the shape of a tensor in the same way as in numpy (x.shape)"
   ]
  },
  {
   "cell_type": "code",
   "execution_count": 61,
   "metadata": {},
   "outputs": [
    {
     "data": {
      "text/plain": [
       "torch.Size([3, 3])"
      ]
     },
     "execution_count": 61,
     "metadata": {},
     "output_type": "execute_result"
    }
   ],
   "source": [
    "x.shape"
   ]
  },
  {
   "cell_type": "markdown",
   "metadata": {},
   "source": [
    "### Tensor to Numpy, and Numpy to Tensor\n",
    "\n",
    "Tensors can be converted to numpy arrays, and numpy arrays back to tensors. To transform a numpy array into a tensor, we can use the function `torch.from_numpy`:"
   ]
  },
  {
   "cell_type": "code",
   "execution_count": 62,
   "metadata": {},
   "outputs": [
    {
     "name": "stdout",
     "output_type": "stream",
     "text": [
      "Numpy array: [[1 2]\n",
      " [3 4]]\n",
      "PyTorch tensor: tensor([[1, 2],\n",
      "        [3, 4]])\n"
     ]
    }
   ],
   "source": [
    "np_arr = np.array([[1, 2], [3, 4]])\n",
    "tensor = torch.from_numpy(np_arr)\n",
    "\n",
    "print(\"Numpy array:\", np_arr)\n",
    "print(\"PyTorch tensor:\", tensor)"
   ]
  },
  {
   "cell_type": "markdown",
   "metadata": {},
   "source": [
    "To transform a PyTorch tensor back to a numpy array, we can use the function `.numpy()` on tensors:"
   ]
  },
  {
   "cell_type": "code",
   "execution_count": 63,
   "metadata": {},
   "outputs": [
    {
     "name": "stdout",
     "output_type": "stream",
     "text": [
      "PyTorch tensor: tensor([0, 1, 2, 3])\n",
      "Numpy array: [0 1 2 3]\n"
     ]
    }
   ],
   "source": [
    "tensor = torch.arange(4)\n",
    "np_arr = tensor.numpy()\n",
    "\n",
    "print(\"PyTorch tensor:\", tensor)\n",
    "print(\"Numpy array:\", np_arr)"
   ]
  },
  {
   "cell_type": "markdown",
   "metadata": {},
   "source": [
    "### Operations and Indexing\n",
    "\n",
    "Most operations that exist in numpy, also exist in PyTorch. A full list of operations can be found in the PyTorch documentation, https://pytorch.org/docs/stable/tensors.html#"
   ]
  },
  {
   "cell_type": "code",
   "execution_count": 64,
   "metadata": {},
   "outputs": [
    {
     "data": {
      "text/plain": [
       "tensor([[1.1162, 0.7587, 0.7166],\n",
       "        [1.1841, 1.4881, 1.7161]])"
      ]
     },
     "execution_count": 64,
     "metadata": {},
     "output_type": "execute_result"
    }
   ],
   "source": [
    "x1 = torch.rand(2, 3)\n",
    "x2 = torch.rand(2, 1)  # notice the broadcasting in the last dimension, similar to numpy\n",
    "\n",
    "y = x1 + x2\n",
    "y"
   ]
  },
  {
   "cell_type": "markdown",
   "metadata": {},
   "source": [
    "We often have the situation where we need to select a part of a tensor. Indexing works just like in numpy, so let’s try it:"
   ]
  },
  {
   "cell_type": "code",
   "execution_count": 65,
   "metadata": {},
   "outputs": [
    {
     "data": {
      "text/plain": [
       "tensor([[1.1162],\n",
       "        [1.1841]])"
      ]
     },
     "execution_count": 65,
     "metadata": {},
     "output_type": "execute_result"
    }
   ],
   "source": [
    "y[0:2, 0:1]  # first two rows, first column"
   ]
  },
  {
   "cell_type": "code",
   "execution_count": 66,
   "metadata": {},
   "outputs": [
    {
     "data": {
      "text/plain": [
       "tensor([[1.1162],\n",
       "        [1.1841]])"
      ]
     },
     "execution_count": 66,
     "metadata": {},
     "output_type": "execute_result"
    }
   ],
   "source": [
    "# it's the same as \n",
    "# (you can avoid writing the 0's)\n",
    "y[:, :1]"
   ]
  },
  {
   "cell_type": "markdown",
   "metadata": {},
   "source": [
    "### Automatic Differentiation with PyTorch\n",
    "\n",
    "One of the main reasons for using PyTorch in Machine/Deep Learning is that **we can automatically get gradients/derivatives of functions** that we define. We will mainly use PyTorch for implementing neural networks, and they are just fancy functions.\n",
    "\n",
    "The first thing we have to do is to specify which tensors require gradients. By default, when we create a tensor, it does not require gradients:"
   ]
  },
  {
   "cell_type": "code",
   "execution_count": 67,
   "metadata": {},
   "outputs": [
    {
     "name": "stdout",
     "output_type": "stream",
     "text": [
      "False\n"
     ]
    }
   ],
   "source": [
    "x = torch.ones(3)\n",
    "print(x.requires_grad)"
   ]
  },
  {
   "cell_type": "markdown",
   "metadata": {},
   "source": [
    "We can change this for an existing tensor using the function `requires_grad_()`. \n",
    "Alternatively, when creating a tensor, you can pass the argument `requires_grad=True`` to most initializers we have seen above."
   ]
  },
  {
   "cell_type": "code",
   "execution_count": 12,
   "metadata": {},
   "outputs": [
    {
     "data": {
      "text/plain": [
       "tensor([1., 1., 1.], requires_grad=True)"
      ]
     },
     "execution_count": 12,
     "metadata": {},
     "output_type": "execute_result"
    }
   ],
   "source": [
    "# these two are the same:\n",
    "x = torch.ones(3, requires_grad=True)\n",
    "x"
   ]
  },
  {
   "cell_type": "code",
   "execution_count": 13,
   "metadata": {},
   "outputs": [
    {
     "data": {
      "text/plain": [
       "tensor([1., 1., 1.], requires_grad=True)"
      ]
     },
     "execution_count": 13,
     "metadata": {},
     "output_type": "execute_result"
    }
   ],
   "source": [
    "x = torch.ones(3)\n",
    "x.requires_grad_(True)"
   ]
  },
  {
   "cell_type": "markdown",
   "metadata": {},
   "source": [
    "Let's say we now want to compute the gradient of the function\n",
    "\n",
    "$$\n",
    "y = f(x) = \\sum_{i=0}^2 (x_i + 1)^2\n",
    "$$\n",
    "\n",
    "with respect to the input $x = (x_0, x_1, x_2) = (1, 1, 1)\\in \\mathbb{R}^3$. \n",
    "\n",
    "We can do this automatically as follows:\n",
    "\n",
    "**1. Let's build the operations that define the function $f(x)$ step by step:**"
   ]
  },
  {
   "cell_type": "code",
   "execution_count": 14,
   "metadata": {},
   "outputs": [],
   "source": [
    "a = x + 1  # add 1 to each element of the vector x\n",
    "b = a ** 2 # square each element of the vector a\n",
    "# now we sum all the components:\n",
    "y = b.sum()"
   ]
  },
  {
   "cell_type": "code",
   "execution_count": 15,
   "metadata": {},
   "outputs": [
    {
     "data": {
      "text/plain": [
       "tensor(12., grad_fn=<SumBackward0>)"
      ]
     },
     "execution_count": 15,
     "metadata": {},
     "output_type": "execute_result"
    }
   ],
   "source": [
    "y"
   ]
  },
  {
   "cell_type": "markdown",
   "metadata": {},
   "source": [
    "So $f((1, 1, 1)) = 12$. \n",
    "\n",
    "But what we really want is the derivative: $\\nabla_x f((1, 1, 1))$.\n",
    "\n",
    "**2. Call the backward method on the output tensor (it computes the gradient of all the variables using the chain rule):**"
   ]
  },
  {
   "cell_type": "code",
   "execution_count": 16,
   "metadata": {},
   "outputs": [],
   "source": [
    "y.backward()"
   ]
  },
  {
   "cell_type": "markdown",
   "metadata": {},
   "source": [
    "**3. Now we can access the gradient of $f$ with respect to $x$ by calling the `grad` attribute of $x$:**"
   ]
  },
  {
   "cell_type": "code",
   "execution_count": 17,
   "metadata": {},
   "outputs": [
    {
     "data": {
      "text/plain": [
       "tensor([4., 4., 4.])"
      ]
     },
     "execution_count": 17,
     "metadata": {},
     "output_type": "execute_result"
    }
   ],
   "source": [
    "x.grad"
   ]
  },
  {
   "cell_type": "markdown",
   "metadata": {},
   "source": [
    "So there is no need to compute the derivatives by hand, PyTorch does it for us!\n",
    "\n",
    "**Exercise:** Compute $\\nabla_x f((0, 1, 2))$"
   ]
  },
  {
   "cell_type": "code",
   "execution_count": 21,
   "metadata": {},
   "outputs": [
    {
     "data": {
      "text/plain": [
       "tensor(14., grad_fn=<SumBackward0>)"
      ]
     },
     "execution_count": 21,
     "metadata": {},
     "output_type": "execute_result"
    }
   ],
   "source": [
    "x = torch.Tensor([0., 1, 2])\n",
    "x.requires_grad_(True)\n",
    "\n",
    "a = x + 1  # add 1 to each element of the vector x\n",
    "b = a ** 2 # square each element of the vector a\n",
    "# now we sum all the components:\n",
    "y = b.sum()\n",
    "y"
   ]
  },
  {
   "cell_type": "code",
   "execution_count": 22,
   "metadata": {},
   "outputs": [
    {
     "name": "stdout",
     "output_type": "stream",
     "text": [
      "The gradient is tensor([2., 4., 6.])\n"
     ]
    }
   ],
   "source": [
    "y.backward()\n",
    "\n",
    "print(\"The gradient is\",x.grad)"
   ]
  },
  {
   "cell_type": "code",
   "execution_count": null,
   "metadata": {},
   "outputs": [],
   "source": []
  },
  {
   "cell_type": "markdown",
   "metadata": {},
   "source": [
    "**Exercise:** Compute $\\nabla_x f^2((0, 1, 2))$"
   ]
  },
  {
   "cell_type": "code",
   "execution_count": 23,
   "metadata": {},
   "outputs": [
    {
     "data": {
      "text/plain": [
       "tensor(196., grad_fn=<PowBackward0>)"
      ]
     },
     "execution_count": 23,
     "metadata": {},
     "output_type": "execute_result"
    }
   ],
   "source": [
    "x = torch.Tensor([0., 1, 2])\n",
    "x.requires_grad_(True)\n",
    "\n",
    "a = x + 1  # add 1 to each element of the vector x\n",
    "b = a ** 2 # square each element of the vector a\n",
    "# now we sum all the components:\n",
    "y = b.sum()**2\n",
    "y"
   ]
  },
  {
   "cell_type": "code",
   "execution_count": 24,
   "metadata": {},
   "outputs": [
    {
     "data": {
      "text/plain": [
       "tensor([ 56., 112., 168.])"
      ]
     },
     "execution_count": 24,
     "metadata": {},
     "output_type": "execute_result"
    }
   ],
   "source": [
    "y.backward()\n",
    "\n",
    "x.grad"
   ]
  },
  {
   "cell_type": "markdown",
   "metadata": {},
   "source": [
    "## Some models in PyTorch\n",
    "\n",
    "### Linear Regression"
   ]
  },
  {
   "cell_type": "markdown",
   "metadata": {},
   "source": [
    "We are given a set of data points $\\{ (x_1, t_1), (x_2, t_2), \\dots, (x_N, t_N) \\}$, where each point $(x_i, t_i)$ consists of an *input value* $x_i$ and a *target value* $t_i$.\n",
    "\n",
    "The **model** we use is:\n",
    "$$\n",
    "y_i = wx_i + b\n",
    "$$\n",
    "\n",
    "We want each predicted value $y_i$ to be close to the ground truth value $t_i$. In linear regression, we use squared error to quantify the disagreement between $y_i$ and $t_i$. The **loss function** for a single example is:\n",
    "$$\n",
    "\\mathcal{L}(y_i,t_i) = \\frac{1}{2} (y_i - t_i)^2\n",
    "$$\n",
    "\n",
    "We can average the loss over all the examples to get the **cost function**:\n",
    "$$\n",
    "\\mathcal{C}(w,b) = \\frac{1}{N} \\sum_{i=1}^N \\mathcal{L}(y_i, t_i) = \\frac{1}{N} \\sum_{i=1}^N \\frac{1}{2} \\left(wx_i + b - t_i \\right)^2\n",
    "$$\n",
    "\n",
    "Remember that the goal of training is to find the values of $w$ and $b$ that minimize the cost function $\\mathcal{C}(w,b)$."
   ]
  },
  {
   "cell_type": "markdown",
   "metadata": {},
   "source": [
    "### Data generation\n",
    "\n",
    "We generate a synthetic dataset $\\{ (x_i, t_i) \\}$ by first taking the $x_i$ to be linearly spaced in the range $[0, 10]$ and generating the corresponding value of $t_i$ using the following equation (where $w = 4$ and $b=10$):\n",
    "$$\n",
    "t_i = 4 x_i + 10 + \\epsilon\n",
    "$$\n",
    "\n",
    "Here, $\\epsilon \\sim \\mathcal{N}(0, 2)$ (that is, $\\epsilon$ is drawn from a Gaussian distribution with mean 0 and variance 2). This introduces some random fluctuation in the data, to mimic real data that has an underlying regularity, but for which individual observations are corrupted by random noise."
   ]
  },
  {
   "cell_type": "code",
   "execution_count": 25,
   "metadata": {},
   "outputs": [
    {
     "data": {
      "image/png": "[encoded data removed]",
      "text/plain": [
       "<Figure size 432x288 with 1 Axes>"
      ]
     },
     "metadata": {
      "needs_background": "light"
     },
     "output_type": "display_data"
    }
   ],
   "source": [
    "import numpy as np\n",
    "import torch\n",
    "import matplotlib.pyplot as plt\n",
    "\n",
    "# In our synthetic data, we have w = 4 and b = 10\n",
    "N = 100  # Number of training data points\n",
    "x = np.linspace(0, 10, N)\n",
    "\n",
    "t = 4 * x + 10 + np.random.normal(0, 2, x.shape[0])\n",
    "plt.plot(x, t, \"r.\")\n",
    "\n",
    "x = torch.from_numpy(x)\n",
    "t = torch.from_numpy(t)"
   ]
  },
  {
   "cell_type": "markdown",
   "metadata": {},
   "source": [
    "### Gradient descent"
   ]
  },
  {
   "cell_type": "code",
   "execution_count": 44,
   "metadata": {},
   "outputs": [
    {
     "name": "stdout",
     "output_type": "stream",
     "text": [
      "i: 0     loss: 1083.7414\n",
      "i: 100   loss: 10.4761\n",
      "i: 200   loss: 5.7141\n",
      "i: 300   loss: 3.9540\n",
      "i: 400   loss: 3.3034\n",
      "i: 500   loss: 3.0629\n",
      "i: 600   loss: 2.9740\n",
      "i: 700   loss: 2.9412\n",
      "i: 800   loss: 2.9290\n",
      "i: 900   loss: 2.9246\n"
     ]
    }
   ],
   "source": [
    "# Initialize random parameters\n",
    "w = torch.randn(1, requires_grad=True)\n",
    "b = torch.randn(1, requires_grad=True)\n",
    "\n",
    "# define cost function\n",
    "def cost(w, b):\n",
    "    y = w * x + b\n",
    "    return (1 / N) * torch.sum( (y - t) ** 2)\n",
    "\n",
    "\n",
    "# Find the gradient of the cost function using pytorch\n",
    "num_iterations = 1000 # Number of iterations\n",
    "lr = 0.01  # Learning rate\n",
    "\n",
    "for i in range(num_iterations):\n",
    "\n",
    "    # Evaluate the gradient of the current parameters stored in params\n",
    "    loss = cost(w, b)\n",
    "    loss.backward()\n",
    "\n",
    "    if i % 100 == 0:\n",
    "        print(f\"i: {i:<5d} loss: {loss.item():.4f}\")\n",
    "\n",
    "    # Update parameters w and b\n",
    "    with torch.no_grad():\n",
    "\n",
    "        w.data = w - lr * w.grad\n",
    "        b.data = b - lr * b.grad\n",
    "\n",
    "        w.grad.zero_()  # we set the gradients to zero before the next iteration\n",
    "        b.grad.zero_()"
   ]
  },
  {
   "cell_type": "markdown",
   "metadata": {},
   "source": [
    "Seems that the loss has converged to some minimum. Let's see what the values of $w$ and $b$ are:   "
   ]
  },
  {
   "cell_type": "code",
   "execution_count": 45,
   "metadata": {},
   "outputs": [
    {
     "data": {
      "text/plain": [
       "(tensor([4.0257], requires_grad=True), tensor([9.8727], requires_grad=True))"
      ]
     },
     "execution_count": 45,
     "metadata": {},
     "output_type": "execute_result"
    }
   ],
   "source": [
    "w, b"
   ]
  },
  {
   "cell_type": "code",
   "execution_count": 46,
   "metadata": {},
   "outputs": [
    {
     "data": {
      "text/plain": [
       "[<matplotlib.lines.Line2D at 0x15e70f220>]"
      ]
     },
     "execution_count": 46,
     "metadata": {},
     "output_type": "execute_result"
    },
    {
     "data": {
      "image/png": "[encoded data removed]",
      "text/plain": [
       "<Figure size 432x288 with 1 Axes>"
      ]
     },
     "metadata": {
      "needs_background": "light"
     },
     "output_type": "display_data"
    }
   ],
   "source": [
    "# Plot the training data again, together with the line defined by y = wx + b\n",
    "# where w and b are our final learned parameters\n",
    "b_numpy = b.detach().numpy()\n",
    "w_numpy = w.detach().numpy()\n",
    "\n",
    "plt.plot(x, t, \"r.\")\n",
    "plt.plot([0, 10], [b_numpy, w_numpy * 10 + b_numpy], \"b-\")"
   ]
  },
  {
   "cell_type": "markdown",
   "metadata": {},
   "source": [
    "**Exercise**: Try to change the learning rate and see what happens."
   ]
  },
  {
   "cell_type": "code",
   "execution_count": null,
   "metadata": {},
   "outputs": [],
   "source": [
    "\n",
    "\n"
   ]
  },
  {
   "cell_type": "markdown",
   "metadata": {},
   "source": [
    "**Exercise** now try to fit the linear model to the data generated by the following model:\n",
    "\n",
    "$$\n",
    "t = x^4 - 10 x^2 + 10 x + \\epsilon\n",
    "$$\n",
    "\n",
    "where $\\epsilon \\sim \\mathcal{N}(0, 4)$."
   ]
  },
  {
   "cell_type": "code",
   "execution_count": 50,
   "metadata": {},
   "outputs": [
    {
     "data": {
      "image/png": "[encoded data removed]",
      "text/plain": [
       "<Figure size 432x288 with 1 Axes>"
      ]
     },
     "metadata": {
      "needs_background": "light"
     },
     "output_type": "display_data"
    }
   ],
   "source": [
    "# Generate synthetic data\n",
    "N = 100  # Number of data points\n",
    "x = np.linspace(-3, 3, N)  # Generate N values linearly-spaced between -3 and 3\n",
    "\n",
    "\n",
    "t = x ** 4 - 10 * x ** 2 + 10 * x + np.random.normal(0, 4, x.shape[0])  # Generate corresponding targets\n",
    "plt.plot(x, t, \"r.\")  # Plot data points\n",
    "\n",
    "t = torch.from_numpy(t).view(-1, 1)\n",
    "\n",
    "x = torch.from_numpy(x)\n",
    "#t = torch.from_numpy(t)"
   ]
  },
  {
   "cell_type": "code",
   "execution_count": 59,
   "metadata": {},
   "outputs": [
    {
     "name": "stdout",
     "output_type": "stream",
     "text": [
      "i: 0     loss: 97622.5119\n",
      "i: 100   loss: 46004.2520\n",
      "i: 200   loss: 45784.1475\n",
      "i: 300   loss: 45569.6026\n",
      "i: 400   loss: 45360.4767\n",
      "i: 500   loss: 45156.6328\n",
      "i: 600   loss: 44957.9377\n",
      "i: 700   loss: 44764.2617\n",
      "i: 800   loss: 44575.4765\n",
      "i: 900   loss: 44391.4601\n",
      "i: 1000  loss: 44212.0918\n",
      "i: 1100  loss: 44037.2535\n",
      "i: 1200  loss: 43866.8315\n",
      "i: 1300  loss: 43700.7138\n",
      "i: 1400  loss: 43538.7917\n",
      "i: 1500  loss: 43380.9597\n",
      "i: 1600  loss: 43227.1140\n",
      "i: 1700  loss: 43077.1542\n",
      "i: 1800  loss: 42930.9821\n",
      "i: 1900  loss: 42788.5020\n",
      "i: 2000  loss: 42649.6205\n",
      "i: 2100  loss: 42514.2473\n",
      "i: 2200  loss: 42382.2926\n",
      "i: 2300  loss: 42253.6711\n",
      "i: 2400  loss: 42128.2988\n",
      "i: 2500  loss: 42006.0929\n",
      "i: 2600  loss: 41886.9731\n",
      "i: 2700  loss: 41770.8629\n",
      "i: 2800  loss: 41657.6860\n",
      "i: 2900  loss: 41547.3663\n",
      "i: 3000  loss: 41439.8325\n",
      "i: 3100  loss: 41335.0155\n",
      "i: 3200  loss: 41232.8459\n",
      "i: 3300  loss: 41133.2565\n",
      "i: 3400  loss: 41036.1829\n",
      "i: 3500  loss: 40941.5608\n",
      "i: 3600  loss: 40849.3295\n",
      "i: 3700  loss: 40759.4267\n",
      "i: 3800  loss: 40671.7966\n",
      "i: 3900  loss: 40586.3791\n",
      "i: 4000  loss: 40503.1191\n",
      "i: 4100  loss: 40421.9613\n",
      "i: 4200  loss: 40342.8532\n",
      "i: 4300  loss: 40265.7434\n",
      "i: 4400  loss: 40190.5813\n",
      "i: 4500  loss: 40117.3174\n",
      "i: 4600  loss: 40045.9036\n",
      "i: 4700  loss: 39976.2940\n",
      "i: 4800  loss: 39908.4425\n",
      "i: 4900  loss: 39842.3047\n",
      "i: 5000  loss: 39777.8380\n",
      "i: 5100  loss: 39714.9994\n",
      "i: 5200  loss: 39653.7482\n",
      "i: 5300  loss: 39594.0438\n",
      "i: 5400  loss: 39535.8474\n",
      "i: 5500  loss: 39479.1212\n",
      "i: 5600  loss: 39423.8282\n",
      "i: 5700  loss: 39369.9309\n",
      "i: 5800  loss: 39317.3954\n",
      "i: 5900  loss: 39266.1863\n",
      "i: 6000  loss: 39216.2707\n",
      "i: 6100  loss: 39167.6162\n",
      "i: 6200  loss: 39120.1900\n",
      "i: 6300  loss: 39073.9623\n",
      "i: 6400  loss: 39028.9020\n",
      "i: 6500  loss: 38984.9795\n",
      "i: 6600  loss: 38942.1666\n",
      "i: 6700  loss: 38900.4349\n",
      "i: 6800  loss: 38859.7575\n",
      "i: 6900  loss: 38820.1078\n",
      "i: 7000  loss: 38781.4590\n",
      "i: 7100  loss: 38743.7868\n",
      "i: 7200  loss: 38707.0656\n",
      "i: 7300  loss: 38671.2726\n",
      "i: 7400  loss: 38636.3829\n",
      "i: 7500  loss: 38602.3742\n",
      "i: 7600  loss: 38569.2266\n",
      "i: 7700  loss: 38536.9151\n",
      "i: 7800  loss: 38505.4190\n",
      "i: 7900  loss: 38474.7196\n",
      "i: 8000  loss: 38444.7949\n",
      "i: 8100  loss: 38415.6256\n",
      "i: 8200  loss: 38387.1937\n",
      "i: 8300  loss: 38359.4803\n",
      "i: 8400  loss: 38332.4656\n",
      "i: 8500  loss: 38306.1334\n",
      "i: 8600  loss: 38280.4675\n",
      "i: 8700  loss: 38255.4498\n",
      "i: 8800  loss: 38231.0628\n",
      "i: 8900  loss: 38207.2927\n",
      "i: 9000  loss: 38184.1214\n",
      "i: 9100  loss: 38161.5369\n",
      "i: 9200  loss: 38139.5223\n",
      "i: 9300  loss: 38118.0637\n",
      "i: 9400  loss: 38097.1474\n",
      "i: 9500  loss: 38076.7597\n",
      "i: 9600  loss: 38056.8867\n",
      "i: 9700  loss: 38037.5156\n",
      "i: 9800  loss: 38018.6336\n",
      "i: 9900  loss: 38000.2294\n",
      "i: 10000 loss: 37982.2889\n",
      "i: 10100 loss: 37964.8014\n",
      "i: 10200 loss: 37947.7564\n",
      "i: 10300 loss: 37931.1414\n",
      "i: 10400 loss: 37914.9468\n",
      "i: 10500 loss: 37899.1608\n",
      "i: 10600 loss: 37883.7730\n",
      "i: 10700 loss: 37868.7743\n",
      "i: 10800 loss: 37854.1548\n",
      "i: 10900 loss: 37839.9041\n",
      "i: 11000 loss: 37826.0133\n",
      "i: 11100 loss: 37812.4731\n",
      "i: 11200 loss: 37799.2752\n",
      "i: 11300 loss: 37786.4106\n",
      "i: 11400 loss: 37773.8717\n",
      "i: 11500 loss: 37761.6488\n",
      "i: 11600 loss: 37749.7341\n",
      "i: 11700 loss: 37738.1213\n",
      "i: 11800 loss: 37726.8005\n",
      "i: 11900 loss: 37715.7671\n",
      "i: 12000 loss: 37705.0113\n",
      "i: 12100 loss: 37694.5275\n",
      "i: 12200 loss: 37684.3090\n",
      "i: 12300 loss: 37674.3479\n",
      "i: 12400 loss: 37664.6383\n",
      "i: 12500 loss: 37655.1742\n",
      "i: 12600 loss: 37645.9498\n",
      "i: 12700 loss: 37636.9578\n",
      "i: 12800 loss: 37628.1928\n",
      "i: 12900 loss: 37619.6491\n",
      "i: 13000 loss: 37611.3216\n",
      "i: 13100 loss: 37603.2045\n",
      "i: 13200 loss: 37595.2926\n",
      "i: 13300 loss: 37587.5801\n",
      "i: 13400 loss: 37580.0623\n",
      "i: 13500 loss: 37572.7351\n",
      "i: 13600 loss: 37565.5920\n",
      "i: 13700 loss: 37558.6304\n",
      "i: 13800 loss: 37551.8436\n",
      "i: 13900 loss: 37545.2290\n",
      "i: 14000 loss: 37538.7804\n",
      "i: 14100 loss: 37532.4962\n",
      "i: 14200 loss: 37526.3700\n",
      "i: 14300 loss: 37520.3979\n",
      "i: 14400 loss: 37514.5777\n",
      "i: 14500 loss: 37508.9043\n",
      "i: 14600 loss: 37503.3740\n",
      "i: 14700 loss: 37497.9832\n",
      "i: 14800 loss: 37492.7288\n",
      "i: 14900 loss: 37487.6069\n",
      "i: 15000 loss: 37482.6146\n",
      "i: 15100 loss: 37477.7484\n",
      "i: 15200 loss: 37473.0051\n",
      "i: 15300 loss: 37468.3816\n",
      "i: 15400 loss: 37463.8747\n",
      "i: 15500 loss: 37459.4813\n",
      "i: 15600 loss: 37455.1989\n",
      "i: 15700 loss: 37451.0256\n",
      "i: 15800 loss: 37446.9573\n",
      "i: 15900 loss: 37442.9908\n",
      "i: 16000 loss: 37439.1260\n",
      "i: 16100 loss: 37435.3581\n",
      "i: 16200 loss: 37431.6850\n",
      "i: 16300 loss: 37428.1055\n",
      "i: 16400 loss: 37424.6154\n",
      "i: 16500 loss: 37421.2145\n",
      "i: 16600 loss: 37417.8987\n",
      "i: 16700 loss: 37414.6672\n",
      "i: 16800 loss: 37411.5172\n",
      "i: 16900 loss: 37408.4458\n",
      "i: 17000 loss: 37405.4535\n",
      "i: 17100 loss: 37402.5362\n",
      "i: 17200 loss: 37399.6919\n",
      "i: 17300 loss: 37396.9197\n",
      "i: 17400 loss: 37394.2184\n",
      "i: 17500 loss: 37391.5849\n",
      "i: 17600 loss: 37389.0178\n",
      "i: 17700 loss: 37386.5153\n",
      "i: 17800 loss: 37384.0761\n",
      "i: 17900 loss: 37381.6984\n",
      "i: 18000 loss: 37379.3807\n",
      "i: 18100 loss: 37377.1218\n",
      "i: 18200 loss: 37374.9200\n",
      "i: 18300 loss: 37372.7739\n",
      "i: 18400 loss: 37370.6821\n",
      "i: 18500 loss: 37368.6430\n",
      "i: 18600 loss: 37366.6555\n",
      "i: 18700 loss: 37364.7181\n",
      "i: 18800 loss: 37362.8294\n",
      "i: 18900 loss: 37360.9882\n",
      "i: 19000 loss: 37359.1935\n",
      "i: 19100 loss: 37357.4451\n",
      "i: 19200 loss: 37355.7404\n",
      "i: 19300 loss: 37354.0784\n",
      "i: 19400 loss: 37352.4582\n",
      "i: 19500 loss: 37350.8799\n",
      "i: 19600 loss: 37349.3409\n",
      "i: 19700 loss: 37347.8403\n",
      "i: 19800 loss: 37346.3786\n",
      "i: 19900 loss: 37344.9529\n",
      "i: 20000 loss: 37343.5639\n",
      "i: 20100 loss: 37342.2096\n",
      "i: 20200 loss: 37340.8894\n",
      "i: 20300 loss: 37339.6030\n",
      "i: 20400 loss: 37338.3484\n",
      "i: 20500 loss: 37337.1262\n",
      "i: 20600 loss: 37335.9344\n",
      "i: 20700 loss: 37334.7729\n",
      "i: 20800 loss: 37333.6409\n",
      "i: 20900 loss: 37332.5367\n",
      "i: 21000 loss: 37331.4616\n",
      "i: 21100 loss: 37330.4127\n",
      "i: 21200 loss: 37329.3907\n",
      "i: 21300 loss: 37328.3948\n",
      "i: 21400 loss: 37327.4233\n",
      "i: 21500 loss: 37326.4768\n",
      "i: 21600 loss: 37325.5546\n",
      "i: 21700 loss: 37324.6550\n",
      "i: 21800 loss: 37323.7778\n",
      "i: 21900 loss: 37322.9238\n",
      "i: 22000 loss: 37322.0912\n",
      "i: 22100 loss: 37321.2792\n",
      "i: 22200 loss: 37320.4875\n",
      "i: 22300 loss: 37319.7157\n",
      "i: 22400 loss: 37318.9643\n",
      "i: 22500 loss: 37318.2316\n",
      "i: 22600 loss: 37317.5173\n",
      "i: 22700 loss: 37316.8210\n",
      "i: 22800 loss: 37316.1421\n",
      "i: 22900 loss: 37315.4804\n",
      "i: 23000 loss: 37314.8353\n",
      "i: 23100 loss: 37314.2066\n",
      "i: 23200 loss: 37313.5937\n",
      "i: 23300 loss: 37312.9963\n",
      "i: 23400 loss: 37312.4142\n",
      "i: 23500 loss: 37311.8468\n",
      "i: 23600 loss: 37311.2936\n",
      "i: 23700 loss: 37310.7544\n",
      "i: 23800 loss: 37310.2289\n",
      "i: 23900 loss: 37309.7167\n",
      "i: 24000 loss: 37309.2175\n",
      "i: 24100 loss: 37308.7310\n",
      "i: 24200 loss: 37308.2567\n",
      "i: 24300 loss: 37307.7944\n",
      "i: 24400 loss: 37307.3437\n",
      "i: 24500 loss: 37306.9043\n",
      "i: 24600 loss: 37306.4759\n",
      "i: 24700 loss: 37306.0583\n",
      "i: 24800 loss: 37305.6510\n",
      "i: 24900 loss: 37305.2545\n",
      "i: 25000 loss: 37304.8682\n",
      "i: 25100 loss: 37304.4915\n",
      "i: 25200 loss: 37304.1241\n",
      "i: 25300 loss: 37303.7657\n",
      "i: 25400 loss: 37303.4163\n",
      "i: 25500 loss: 37303.0767\n",
      "i: 25600 loss: 37302.7453\n",
      "i: 25700 loss: 37302.4219\n",
      "i: 25800 loss: 37302.1062\n",
      "i: 25900 loss: 37301.7996\n",
      "i: 26000 loss: 37301.5005\n",
      "i: 26100 loss: 37301.2085\n",
      "i: 26200 loss: 37300.9236\n",
      "i: 26300 loss: 37300.6470\n",
      "i: 26400 loss: 37300.3767\n",
      "i: 26500 loss: 37300.1127\n",
      "i: 26600 loss: 37299.8565\n",
      "i: 26700 loss: 37299.6063\n",
      "i: 26800 loss: 37299.3617\n",
      "i: 26900 loss: 37299.1245\n",
      "i: 27000 loss: 37298.8928\n",
      "i: 27100 loss: 37298.6661\n",
      "i: 27200 loss: 37298.4466\n",
      "i: 27300 loss: 37298.2318\n",
      "i: 27400 loss: 37298.0224\n",
      "i: 27500 loss: 37297.8189\n",
      "i: 27600 loss: 37297.6193\n",
      "i: 27700 loss: 37297.4262\n",
      "i: 27800 loss: 37297.2371\n",
      "i: 27900 loss: 37297.0529\n",
      "i: 28000 loss: 37296.8737\n",
      "i: 28100 loss: 37296.6982\n",
      "i: 28200 loss: 37296.5283\n",
      "i: 28300 loss: 37296.3614\n",
      "i: 28400 loss: 37296.2001\n",
      "i: 28500 loss: 37296.0417\n",
      "i: 28600 loss: 37295.8882\n",
      "i: 28700 loss: 37295.7378\n",
      "i: 28800 loss: 37295.5919\n",
      "i: 28900 loss: 37295.4490\n",
      "i: 29000 loss: 37295.3104\n",
      "i: 29100 loss: 37295.1746\n",
      "i: 29200 loss: 37295.0429\n",
      "i: 29300 loss: 37294.9138\n",
      "i: 29400 loss: 37294.7888\n",
      "i: 29500 loss: 37294.6659\n",
      "i: 29600 loss: 37294.5474\n",
      "i: 29700 loss: 37294.4303\n",
      "i: 29800 loss: 37294.3180\n",
      "i: 29900 loss: 37294.2070\n",
      "i: 30000 loss: 37294.0999\n",
      "i: 30100 loss: 37293.9949\n",
      "i: 30200 loss: 37293.8926\n",
      "i: 30300 loss: 37293.7932\n",
      "i: 30400 loss: 37293.6954\n",
      "i: 30500 loss: 37293.6015\n",
      "i: 30600 loss: 37293.5087\n",
      "i: 30700 loss: 37293.4190\n",
      "i: 30800 loss: 37293.3315\n",
      "i: 30900 loss: 37293.2454\n",
      "i: 31000 loss: 37293.1628\n",
      "i: 31100 loss: 37293.0812\n",
      "i: 31200 loss: 37293.0021\n",
      "i: 31300 loss: 37292.9253\n",
      "i: 31400 loss: 37292.8494\n",
      "i: 31500 loss: 37292.7766\n",
      "i: 31600 loss: 37292.7052\n",
      "i: 31700 loss: 37292.6348\n",
      "i: 31800 loss: 37292.5677\n",
      "i: 31900 loss: 37292.5015\n",
      "i: 32000 loss: 37292.4364\n",
      "i: 32100 loss: 37292.3742\n",
      "i: 32200 loss: 37292.3128\n",
      "i: 32300 loss: 37292.2525\n",
      "i: 32400 loss: 37292.1949\n",
      "i: 32500 loss: 37292.1381\n",
      "i: 32600 loss: 37292.0820\n",
      "i: 32700 loss: 37292.0289\n",
      "i: 32800 loss: 37291.9764\n",
      "i: 32900 loss: 37291.9246\n",
      "i: 33000 loss: 37291.8750\n",
      "i: 33100 loss: 37291.8266\n",
      "i: 33200 loss: 37291.7788\n",
      "i: 33300 loss: 37291.7323\n",
      "i: 33400 loss: 37291.6877\n",
      "i: 33500 loss: 37291.6437\n",
      "i: 33600 loss: 37291.6003\n",
      "i: 33700 loss: 37291.5590\n",
      "i: 33800 loss: 37291.5185\n",
      "i: 33900 loss: 37291.4786\n",
      "i: 34000 loss: 37291.4394\n",
      "i: 34100 loss: 37291.4023\n",
      "i: 34200 loss: 37291.3658\n",
      "i: 34300 loss: 37291.3297\n",
      "i: 34400 loss: 37291.2943\n",
      "i: 34500 loss: 37291.2609\n",
      "i: 34600 loss: 37291.2279\n",
      "i: 34700 loss: 37291.1953\n",
      "i: 34800 loss: 37291.1632\n",
      "i: 34900 loss: 37291.1331\n",
      "i: 35000 loss: 37291.1034\n",
      "i: 35100 loss: 37291.0740\n",
      "i: 35200 loss: 37291.0451\n",
      "i: 35300 loss: 37291.0176\n",
      "i: 35400 loss: 37290.9909\n",
      "i: 35500 loss: 37290.9646\n",
      "i: 35600 loss: 37290.9386\n",
      "i: 35700 loss: 37290.9131\n",
      "i: 35800 loss: 37290.8893\n",
      "i: 35900 loss: 37290.8657\n",
      "i: 36000 loss: 37290.8425\n",
      "i: 36100 loss: 37290.8195\n",
      "i: 36200 loss: 37290.7972\n",
      "i: 36300 loss: 37290.7762\n",
      "i: 36400 loss: 37290.7555\n",
      "i: 36500 loss: 37290.7351\n",
      "i: 36600 loss: 37290.7149\n",
      "i: 36700 loss: 37290.6950\n",
      "i: 36800 loss: 37290.6766\n",
      "i: 36900 loss: 37290.6585\n",
      "i: 37000 loss: 37290.6406\n",
      "i: 37100 loss: 37290.6229\n",
      "i: 37200 loss: 37290.6055\n",
      "i: 37300 loss: 37290.5888\n",
      "i: 37400 loss: 37290.5730\n",
      "i: 37500 loss: 37290.5574\n",
      "i: 37600 loss: 37290.5420\n",
      "i: 37700 loss: 37290.5268\n",
      "i: 37800 loss: 37290.5118\n",
      "i: 37900 loss: 37290.4975\n",
      "i: 38000 loss: 37290.4840\n",
      "i: 38100 loss: 37290.4707\n",
      "i: 38200 loss: 37290.4575\n",
      "i: 38300 loss: 37290.4445\n",
      "i: 38400 loss: 37290.4317\n",
      "i: 38500 loss: 37290.4190\n",
      "i: 38600 loss: 37290.4074\n",
      "i: 38700 loss: 37290.3961\n",
      "i: 38800 loss: 37290.3850\n",
      "i: 38900 loss: 37290.3739\n",
      "i: 39000 loss: 37290.3630\n",
      "i: 39100 loss: 37290.3523\n",
      "i: 39200 loss: 37290.3417\n",
      "i: 39300 loss: 37290.3320\n",
      "i: 39400 loss: 37290.3226\n",
      "i: 39500 loss: 37290.3133\n",
      "i: 39600 loss: 37290.3041\n",
      "i: 39700 loss: 37290.2950\n",
      "i: 39800 loss: 37290.2861\n",
      "i: 39900 loss: 37290.2773\n",
      "i: 40000 loss: 37290.2686\n",
      "i: 40100 loss: 37290.2608\n",
      "i: 40200 loss: 37290.2532\n",
      "i: 40300 loss: 37290.2456\n",
      "i: 40400 loss: 37290.2382\n",
      "i: 40500 loss: 37290.2308\n",
      "i: 40600 loss: 37290.2235\n",
      "i: 40700 loss: 37290.2164\n",
      "i: 40800 loss: 37290.2093\n",
      "i: 40900 loss: 37290.2025\n",
      "i: 41000 loss: 37290.1964\n",
      "i: 41100 loss: 37290.1904\n",
      "i: 41200 loss: 37290.1844\n",
      "i: 41300 loss: 37290.1785\n",
      "i: 41400 loss: 37290.1726\n",
      "i: 41500 loss: 37290.1669\n",
      "i: 41600 loss: 37290.1612\n",
      "i: 41700 loss: 37290.1556\n",
      "i: 41800 loss: 37290.1501\n",
      "i: 41900 loss: 37290.1449\n",
      "i: 42000 loss: 37290.1402\n",
      "i: 42100 loss: 37290.1356\n",
      "i: 42200 loss: 37290.1310\n",
      "i: 42300 loss: 37290.1264\n",
      "i: 42400 loss: 37290.1219\n",
      "i: 42500 loss: 37290.1175\n",
      "i: 42600 loss: 37290.1131\n",
      "i: 42700 loss: 37290.1088\n",
      "i: 42800 loss: 37290.1045\n",
      "i: 42900 loss: 37290.1003\n",
      "i: 43000 loss: 37290.0964\n",
      "i: 43100 loss: 37290.0929\n",
      "i: 43200 loss: 37290.0894\n",
      "i: 43300 loss: 37290.0860\n",
      "i: 43400 loss: 37290.0826\n",
      "i: 43500 loss: 37290.0792\n",
      "i: 43600 loss: 37290.0759\n",
      "i: 43700 loss: 37290.0727\n",
      "i: 43800 loss: 37290.0694\n",
      "i: 43900 loss: 37290.0663\n",
      "i: 44000 loss: 37290.0631\n",
      "i: 44100 loss: 37290.0600\n",
      "i: 44200 loss: 37290.0570\n",
      "i: 44300 loss: 37290.0541\n",
      "i: 44400 loss: 37290.0516\n",
      "i: 44500 loss: 37290.0492\n",
      "i: 44600 loss: 37290.0468\n",
      "i: 44700 loss: 37290.0444\n",
      "i: 44800 loss: 37290.0420\n",
      "i: 44900 loss: 37290.0397\n",
      "i: 45000 loss: 37290.0374\n",
      "i: 45100 loss: 37290.0351\n",
      "i: 45200 loss: 37290.0329\n",
      "i: 45300 loss: 37290.0306\n",
      "i: 45400 loss: 37290.0284\n",
      "i: 45500 loss: 37290.0263\n",
      "i: 45600 loss: 37290.0242\n",
      "i: 45700 loss: 37290.0221\n",
      "i: 45800 loss: 37290.0200\n",
      "i: 45900 loss: 37290.0182\n",
      "i: 46000 loss: 37290.0166\n",
      "i: 46100 loss: 37290.0150\n",
      "i: 46200 loss: 37290.0134\n",
      "i: 46300 loss: 37290.0119\n",
      "i: 46400 loss: 37290.0103\n",
      "i: 46500 loss: 37290.0088\n",
      "i: 46600 loss: 37290.0073\n",
      "i: 46700 loss: 37290.0058\n",
      "i: 46800 loss: 37290.0043\n",
      "i: 46900 loss: 37290.0029\n",
      "i: 47000 loss: 37290.0015\n",
      "i: 47100 loss: 37290.0001\n",
      "i: 47200 loss: 37289.9987\n",
      "i: 47300 loss: 37289.9973\n",
      "i: 47400 loss: 37289.9959\n",
      "i: 47500 loss: 37289.9946\n",
      "i: 47600 loss: 37289.9933\n",
      "i: 47700 loss: 37289.9920\n",
      "i: 47800 loss: 37289.9907\n",
      "i: 47900 loss: 37289.9898\n",
      "i: 48000 loss: 37289.9889\n",
      "i: 48100 loss: 37289.9879\n",
      "i: 48200 loss: 37289.9870\n",
      "i: 48300 loss: 37289.9861\n",
      "i: 48400 loss: 37289.9852\n",
      "i: 48500 loss: 37289.9843\n",
      "i: 48600 loss: 37289.9834\n",
      "i: 48700 loss: 37289.9826\n",
      "i: 48800 loss: 37289.9817\n",
      "i: 48900 loss: 37289.9809\n",
      "i: 49000 loss: 37289.9800\n",
      "i: 49100 loss: 37289.9792\n",
      "i: 49200 loss: 37289.9784\n",
      "i: 49300 loss: 37289.9776\n",
      "i: 49400 loss: 37289.9768\n",
      "i: 49500 loss: 37289.9760\n",
      "i: 49600 loss: 37289.9753\n",
      "i: 49700 loss: 37289.9745\n",
      "i: 49800 loss: 37289.9738\n",
      "i: 49900 loss: 37289.9730\n",
      "i: 50000 loss: 37289.9723\n",
      "i: 50100 loss: 37289.9716\n",
      "i: 50200 loss: 37289.9709\n",
      "i: 50300 loss: 37289.9702\n",
      "i: 50400 loss: 37289.9695\n",
      "i: 50500 loss: 37289.9690\n",
      "i: 50600 loss: 37289.9686\n",
      "i: 50700 loss: 37289.9681\n",
      "i: 50800 loss: 37289.9677\n",
      "i: 50900 loss: 37289.9673\n",
      "i: 51000 loss: 37289.9668\n",
      "i: 51100 loss: 37289.9664\n",
      "i: 51200 loss: 37289.9660\n",
      "i: 51300 loss: 37289.9656\n",
      "i: 51400 loss: 37289.9652\n",
      "i: 51500 loss: 37289.9648\n",
      "i: 51600 loss: 37289.9644\n",
      "i: 51700 loss: 37289.9640\n",
      "i: 51800 loss: 37289.9636\n",
      "i: 51900 loss: 37289.9632\n",
      "i: 52000 loss: 37289.9628\n",
      "i: 52100 loss: 37289.9624\n",
      "i: 52200 loss: 37289.9621\n",
      "i: 52300 loss: 37289.9617\n",
      "i: 52400 loss: 37289.9613\n",
      "i: 52500 loss: 37289.9610\n",
      "i: 52600 loss: 37289.9606\n",
      "i: 52700 loss: 37289.9603\n",
      "i: 52800 loss: 37289.9599\n",
      "i: 52900 loss: 37289.9596\n",
      "i: 53000 loss: 37289.9592\n",
      "i: 53100 loss: 37289.9589\n",
      "i: 53200 loss: 37289.9586\n",
      "i: 53300 loss: 37289.9583\n",
      "i: 53400 loss: 37289.9579\n",
      "i: 53500 loss: 37289.9576\n",
      "i: 53600 loss: 37289.9573\n",
      "i: 53700 loss: 37289.9570\n",
      "i: 53800 loss: 37289.9567\n",
      "i: 53900 loss: 37289.9564\n",
      "i: 54000 loss: 37289.9561\n",
      "i: 54100 loss: 37289.9559\n",
      "i: 54200 loss: 37289.9556\n",
      "i: 54300 loss: 37289.9553\n",
      "i: 54400 loss: 37289.9552\n",
      "i: 54500 loss: 37289.9550\n",
      "i: 54600 loss: 37289.9549\n",
      "i: 54700 loss: 37289.9548\n",
      "i: 54800 loss: 37289.9546\n",
      "i: 54900 loss: 37289.9545\n",
      "i: 55000 loss: 37289.9544\n",
      "i: 55100 loss: 37289.9542\n",
      "i: 55200 loss: 37289.9541\n",
      "i: 55300 loss: 37289.9540\n",
      "i: 55400 loss: 37289.9539\n",
      "i: 55500 loss: 37289.9537\n",
      "i: 55600 loss: 37289.9536\n",
      "i: 55700 loss: 37289.9535\n",
      "i: 55800 loss: 37289.9534\n",
      "i: 55900 loss: 37289.9533\n",
      "i: 56000 loss: 37289.9531\n",
      "i: 56100 loss: 37289.9530\n",
      "i: 56200 loss: 37289.9529\n",
      "i: 56300 loss: 37289.9528\n",
      "i: 56400 loss: 37289.9527\n",
      "i: 56500 loss: 37289.9526\n",
      "i: 56600 loss: 37289.9525\n",
      "i: 56700 loss: 37289.9524\n",
      "i: 56800 loss: 37289.9522\n",
      "i: 56900 loss: 37289.9521\n",
      "i: 57000 loss: 37289.9520\n",
      "i: 57100 loss: 37289.9519\n",
      "i: 57200 loss: 37289.9518\n",
      "i: 57300 loss: 37289.9517\n",
      "i: 57400 loss: 37289.9516\n",
      "i: 57500 loss: 37289.9515\n",
      "i: 57600 loss: 37289.9514\n",
      "i: 57700 loss: 37289.9513\n",
      "i: 57800 loss: 37289.9512\n",
      "i: 57900 loss: 37289.9511\n",
      "i: 58000 loss: 37289.9510\n",
      "i: 58100 loss: 37289.9510\n",
      "i: 58200 loss: 37289.9509\n",
      "i: 58300 loss: 37289.9508\n",
      "i: 58400 loss: 37289.9507\n",
      "i: 58500 loss: 37289.9506\n",
      "i: 58600 loss: 37289.9505\n",
      "i: 58700 loss: 37289.9504\n",
      "i: 58800 loss: 37289.9503\n",
      "i: 58900 loss: 37289.9502\n",
      "i: 59000 loss: 37289.9502\n",
      "i: 59100 loss: 37289.9501\n",
      "i: 59200 loss: 37289.9500\n",
      "i: 59300 loss: 37289.9499\n",
      "i: 59400 loss: 37289.9498\n",
      "i: 59500 loss: 37289.9498\n",
      "i: 59600 loss: 37289.9497\n",
      "i: 59700 loss: 37289.9496\n",
      "i: 59800 loss: 37289.9496\n",
      "i: 59900 loss: 37289.9495\n",
      "i: 60000 loss: 37289.9494\n",
      "i: 60100 loss: 37289.9493\n",
      "i: 60200 loss: 37289.9493\n",
      "i: 60300 loss: 37289.9492\n",
      "i: 60400 loss: 37289.9491\n",
      "i: 60500 loss: 37289.9491\n",
      "i: 60600 loss: 37289.9490\n",
      "i: 60700 loss: 37289.9489\n",
      "i: 60800 loss: 37289.9489\n",
      "i: 60900 loss: 37289.9488\n",
      "i: 61000 loss: 37289.9488\n",
      "i: 61100 loss: 37289.9487\n",
      "i: 61200 loss: 37289.9486\n",
      "i: 61300 loss: 37289.9486\n",
      "i: 61400 loss: 37289.9485\n",
      "i: 61500 loss: 37289.9485\n",
      "i: 61600 loss: 37289.9484\n",
      "i: 61700 loss: 37289.9484\n",
      "i: 61800 loss: 37289.9483\n",
      "i: 61900 loss: 37289.9483\n",
      "i: 62000 loss: 37289.9482\n",
      "i: 62100 loss: 37289.9482\n",
      "i: 62200 loss: 37289.9482\n",
      "i: 62300 loss: 37289.9482\n",
      "i: 62400 loss: 37289.9482\n",
      "i: 62500 loss: 37289.9482\n",
      "i: 62600 loss: 37289.9482\n",
      "i: 62700 loss: 37289.9482\n",
      "i: 62800 loss: 37289.9482\n",
      "i: 62900 loss: 37289.9482\n",
      "i: 63000 loss: 37289.9482\n",
      "i: 63100 loss: 37289.9482\n",
      "i: 63200 loss: 37289.9482\n",
      "i: 63300 loss: 37289.9482\n",
      "i: 63400 loss: 37289.9482\n",
      "i: 63500 loss: 37289.9482\n",
      "i: 63600 loss: 37289.9482\n",
      "i: 63700 loss: 37289.9482\n",
      "i: 63800 loss: 37289.9482\n",
      "i: 63900 loss: 37289.9482\n",
      "i: 64000 loss: 37289.9482\n",
      "i: 64100 loss: 37289.9482\n",
      "i: 64200 loss: 37289.9482\n",
      "i: 64300 loss: 37289.9482\n",
      "i: 64400 loss: 37289.9482\n",
      "i: 64500 loss: 37289.9482\n",
      "i: 64600 loss: 37289.9482\n",
      "i: 64700 loss: 37289.9482\n",
      "i: 64800 loss: 37289.9482\n",
      "i: 64900 loss: 37289.9482\n",
      "i: 65000 loss: 37289.9482\n",
      "i: 65100 loss: 37289.9482\n",
      "i: 65200 loss: 37289.9482\n",
      "i: 65300 loss: 37289.9482\n",
      "i: 65400 loss: 37289.9482\n",
      "i: 65500 loss: 37289.9482\n",
      "i: 65600 loss: 37289.9482\n",
      "i: 65700 loss: 37289.9482\n",
      "i: 65800 loss: 37289.9482\n",
      "i: 65900 loss: 37289.9482\n",
      "i: 66000 loss: 37289.9482\n",
      "i: 66100 loss: 37289.9482\n",
      "i: 66200 loss: 37289.9482\n",
      "i: 66300 loss: 37289.9482\n",
      "i: 66400 loss: 37289.9482\n",
      "i: 66500 loss: 37289.9482\n",
      "i: 66600 loss: 37289.9482\n",
      "i: 66700 loss: 37289.9482\n",
      "i: 66800 loss: 37289.9482\n",
      "i: 66900 loss: 37289.9482\n",
      "i: 67000 loss: 37289.9482\n",
      "i: 67100 loss: 37289.9482\n",
      "i: 67200 loss: 37289.9482\n",
      "i: 67300 loss: 37289.9482\n",
      "i: 67400 loss: 37289.9482\n",
      "i: 67500 loss: 37289.9482\n",
      "i: 67600 loss: 37289.9482\n",
      "i: 67700 loss: 37289.9482\n",
      "i: 67800 loss: 37289.9482\n",
      "i: 67900 loss: 37289.9482\n",
      "i: 68000 loss: 37289.9482\n",
      "i: 68100 loss: 37289.9482\n",
      "i: 68200 loss: 37289.9482\n",
      "i: 68300 loss: 37289.9482\n",
      "i: 68400 loss: 37289.9482\n",
      "i: 68500 loss: 37289.9482\n",
      "i: 68600 loss: 37289.9482\n",
      "i: 68700 loss: 37289.9482\n",
      "i: 68800 loss: 37289.9482\n",
      "i: 68900 loss: 37289.9482\n",
      "i: 69000 loss: 37289.9482\n",
      "i: 69100 loss: 37289.9482\n",
      "i: 69200 loss: 37289.9482\n",
      "i: 69300 loss: 37289.9482\n",
      "i: 69400 loss: 37289.9482\n",
      "i: 69500 loss: 37289.9482\n",
      "i: 69600 loss: 37289.9482\n",
      "i: 69700 loss: 37289.9482\n",
      "i: 69800 loss: 37289.9482\n",
      "i: 69900 loss: 37289.9482\n",
      "i: 70000 loss: 37289.9482\n",
      "i: 70100 loss: 37289.9482\n",
      "i: 70200 loss: 37289.9482\n",
      "i: 70300 loss: 37289.9482\n",
      "i: 70400 loss: 37289.9482\n",
      "i: 70500 loss: 37289.9482\n",
      "i: 70600 loss: 37289.9482\n",
      "i: 70700 loss: 37289.9482\n",
      "i: 70800 loss: 37289.9482\n",
      "i: 70900 loss: 37289.9482\n",
      "i: 71000 loss: 37289.9482\n",
      "i: 71100 loss: 37289.9482\n",
      "i: 71200 loss: 37289.9482\n",
      "i: 71300 loss: 37289.9482\n",
      "i: 71400 loss: 37289.9482\n",
      "i: 71500 loss: 37289.9482\n",
      "i: 71600 loss: 37289.9482\n",
      "i: 71700 loss: 37289.9482\n",
      "i: 71800 loss: 37289.9482\n",
      "i: 71900 loss: 37289.9482\n",
      "i: 72000 loss: 37289.9482\n",
      "i: 72100 loss: 37289.9482\n",
      "i: 72200 loss: 37289.9482\n",
      "i: 72300 loss: 37289.9482\n",
      "i: 72400 loss: 37289.9482\n",
      "i: 72500 loss: 37289.9482\n",
      "i: 72600 loss: 37289.9482\n",
      "i: 72700 loss: 37289.9482\n",
      "i: 72800 loss: 37289.9482\n",
      "i: 72900 loss: 37289.9482\n",
      "i: 73000 loss: 37289.9482\n",
      "i: 73100 loss: 37289.9482\n",
      "i: 73200 loss: 37289.9482\n",
      "i: 73300 loss: 37289.9482\n",
      "i: 73400 loss: 37289.9482\n",
      "i: 73500 loss: 37289.9482\n",
      "i: 73600 loss: 37289.9482\n",
      "i: 73700 loss: 37289.9482\n",
      "i: 73800 loss: 37289.9482\n",
      "i: 73900 loss: 37289.9482\n",
      "i: 74000 loss: 37289.9482\n",
      "i: 74100 loss: 37289.9482\n",
      "i: 74200 loss: 37289.9482\n",
      "i: 74300 loss: 37289.9482\n",
      "i: 74400 loss: 37289.9482\n",
      "i: 74500 loss: 37289.9482\n",
      "i: 74600 loss: 37289.9482\n",
      "i: 74700 loss: 37289.9482\n",
      "i: 74800 loss: 37289.9482\n",
      "i: 74900 loss: 37289.9482\n",
      "i: 75000 loss: 37289.9482\n",
      "i: 75100 loss: 37289.9482\n",
      "i: 75200 loss: 37289.9482\n",
      "i: 75300 loss: 37289.9482\n",
      "i: 75400 loss: 37289.9482\n",
      "i: 75500 loss: 37289.9482\n",
      "i: 75600 loss: 37289.9482\n",
      "i: 75700 loss: 37289.9482\n",
      "i: 75800 loss: 37289.9482\n",
      "i: 75900 loss: 37289.9482\n",
      "i: 76000 loss: 37289.9482\n",
      "i: 76100 loss: 37289.9482\n",
      "i: 76200 loss: 37289.9482\n",
      "i: 76300 loss: 37289.9482\n",
      "i: 76400 loss: 37289.9482\n",
      "i: 76500 loss: 37289.9482\n",
      "i: 76600 loss: 37289.9482\n",
      "i: 76700 loss: 37289.9482\n",
      "i: 76800 loss: 37289.9482\n",
      "i: 76900 loss: 37289.9482\n",
      "i: 77000 loss: 37289.9482\n",
      "i: 77100 loss: 37289.9482\n",
      "i: 77200 loss: 37289.9482\n",
      "i: 77300 loss: 37289.9482\n",
      "i: 77400 loss: 37289.9482\n",
      "i: 77500 loss: 37289.9482\n",
      "i: 77600 loss: 37289.9482\n",
      "i: 77700 loss: 37289.9482\n",
      "i: 77800 loss: 37289.9482\n",
      "i: 77900 loss: 37289.9482\n",
      "i: 78000 loss: 37289.9482\n",
      "i: 78100 loss: 37289.9482\n",
      "i: 78200 loss: 37289.9482\n",
      "i: 78300 loss: 37289.9482\n",
      "i: 78400 loss: 37289.9482\n",
      "i: 78500 loss: 37289.9482\n",
      "i: 78600 loss: 37289.9482\n",
      "i: 78700 loss: 37289.9482\n",
      "i: 78800 loss: 37289.9482\n",
      "i: 78900 loss: 37289.9482\n",
      "i: 79000 loss: 37289.9482\n",
      "i: 79100 loss: 37289.9482\n",
      "i: 79200 loss: 37289.9482\n",
      "i: 79300 loss: 37289.9482\n",
      "i: 79400 loss: 37289.9482\n",
      "i: 79500 loss: 37289.9482\n",
      "i: 79600 loss: 37289.9482\n",
      "i: 79700 loss: 37289.9482\n",
      "i: 79800 loss: 37289.9482\n",
      "i: 79900 loss: 37289.9482\n",
      "i: 80000 loss: 37289.9482\n",
      "i: 80100 loss: 37289.9482\n",
      "i: 80200 loss: 37289.9482\n",
      "i: 80300 loss: 37289.9482\n",
      "i: 80400 loss: 37289.9482\n",
      "i: 80500 loss: 37289.9482\n",
      "i: 80600 loss: 37289.9482\n",
      "i: 80700 loss: 37289.9482\n",
      "i: 80800 loss: 37289.9482\n",
      "i: 80900 loss: 37289.9482\n",
      "i: 81000 loss: 37289.9482\n",
      "i: 81100 loss: 37289.9482\n",
      "i: 81200 loss: 37289.9482\n",
      "i: 81300 loss: 37289.9482\n",
      "i: 81400 loss: 37289.9482\n",
      "i: 81500 loss: 37289.9482\n",
      "i: 81600 loss: 37289.9482\n",
      "i: 81700 loss: 37289.9482\n",
      "i: 81800 loss: 37289.9482\n",
      "i: 81900 loss: 37289.9482\n",
      "i: 82000 loss: 37289.9482\n",
      "i: 82100 loss: 37289.9482\n",
      "i: 82200 loss: 37289.9482\n",
      "i: 82300 loss: 37289.9482\n",
      "i: 82400 loss: 37289.9482\n",
      "i: 82500 loss: 37289.9482\n",
      "i: 82600 loss: 37289.9482\n",
      "i: 82700 loss: 37289.9482\n",
      "i: 82800 loss: 37289.9482\n",
      "i: 82900 loss: 37289.9482\n",
      "i: 83000 loss: 37289.9482\n",
      "i: 83100 loss: 37289.9482\n",
      "i: 83200 loss: 37289.9482\n",
      "i: 83300 loss: 37289.9482\n",
      "i: 83400 loss: 37289.9482\n",
      "i: 83500 loss: 37289.9482\n",
      "i: 83600 loss: 37289.9482\n",
      "i: 83700 loss: 37289.9482\n",
      "i: 83800 loss: 37289.9482\n",
      "i: 83900 loss: 37289.9482\n",
      "i: 84000 loss: 37289.9482\n",
      "i: 84100 loss: 37289.9482\n",
      "i: 84200 loss: 37289.9482\n",
      "i: 84300 loss: 37289.9482\n",
      "i: 84400 loss: 37289.9482\n",
      "i: 84500 loss: 37289.9482\n",
      "i: 84600 loss: 37289.9482\n",
      "i: 84700 loss: 37289.9482\n",
      "i: 84800 loss: 37289.9482\n",
      "i: 84900 loss: 37289.9482\n",
      "i: 85000 loss: 37289.9482\n",
      "i: 85100 loss: 37289.9482\n",
      "i: 85200 loss: 37289.9482\n",
      "i: 85300 loss: 37289.9482\n",
      "i: 85400 loss: 37289.9482\n",
      "i: 85500 loss: 37289.9482\n",
      "i: 85600 loss: 37289.9482\n",
      "i: 85700 loss: 37289.9482\n",
      "i: 85800 loss: 37289.9482\n",
      "i: 85900 loss: 37289.9482\n",
      "i: 86000 loss: 37289.9482\n",
      "i: 86100 loss: 37289.9482\n",
      "i: 86200 loss: 37289.9482\n",
      "i: 86300 loss: 37289.9482\n",
      "i: 86400 loss: 37289.9482\n",
      "i: 86500 loss: 37289.9482\n",
      "i: 86600 loss: 37289.9482\n",
      "i: 86700 loss: 37289.9482\n",
      "i: 86800 loss: 37289.9482\n",
      "i: 86900 loss: 37289.9482\n",
      "i: 87000 loss: 37289.9482\n",
      "i: 87100 loss: 37289.9482\n",
      "i: 87200 loss: 37289.9482\n",
      "i: 87300 loss: 37289.9482\n",
      "i: 87400 loss: 37289.9482\n",
      "i: 87500 loss: 37289.9482\n",
      "i: 87600 loss: 37289.9482\n",
      "i: 87700 loss: 37289.9482\n",
      "i: 87800 loss: 37289.9482\n",
      "i: 87900 loss: 37289.9482\n",
      "i: 88000 loss: 37289.9482\n",
      "i: 88100 loss: 37289.9482\n",
      "i: 88200 loss: 37289.9482\n",
      "i: 88300 loss: 37289.9482\n",
      "i: 88400 loss: 37289.9482\n",
      "i: 88500 loss: 37289.9482\n",
      "i: 88600 loss: 37289.9482\n",
      "i: 88700 loss: 37289.9482\n",
      "i: 88800 loss: 37289.9482\n",
      "i: 88900 loss: 37289.9482\n",
      "i: 89000 loss: 37289.9482\n",
      "i: 89100 loss: 37289.9482\n",
      "i: 89200 loss: 37289.9482\n",
      "i: 89300 loss: 37289.9482\n",
      "i: 89400 loss: 37289.9482\n",
      "i: 89500 loss: 37289.9482\n",
      "i: 89600 loss: 37289.9482\n",
      "i: 89700 loss: 37289.9482\n",
      "i: 89800 loss: 37289.9482\n",
      "i: 89900 loss: 37289.9482\n",
      "i: 90000 loss: 37289.9482\n",
      "i: 90100 loss: 37289.9482\n",
      "i: 90200 loss: 37289.9482\n",
      "i: 90300 loss: 37289.9482\n",
      "i: 90400 loss: 37289.9482\n",
      "i: 90500 loss: 37289.9482\n",
      "i: 90600 loss: 37289.9482\n",
      "i: 90700 loss: 37289.9482\n",
      "i: 90800 loss: 37289.9482\n",
      "i: 90900 loss: 37289.9482\n",
      "i: 91000 loss: 37289.9482\n",
      "i: 91100 loss: 37289.9482\n",
      "i: 91200 loss: 37289.9482\n",
      "i: 91300 loss: 37289.9482\n",
      "i: 91400 loss: 37289.9482\n",
      "i: 91500 loss: 37289.9482\n",
      "i: 91600 loss: 37289.9482\n",
      "i: 91700 loss: 37289.9482\n",
      "i: 91800 loss: 37289.9482\n",
      "i: 91900 loss: 37289.9482\n",
      "i: 92000 loss: 37289.9482\n",
      "i: 92100 loss: 37289.9482\n",
      "i: 92200 loss: 37289.9482\n",
      "i: 92300 loss: 37289.9482\n",
      "i: 92400 loss: 37289.9482\n",
      "i: 92500 loss: 37289.9482\n",
      "i: 92600 loss: 37289.9482\n",
      "i: 92700 loss: 37289.9482\n",
      "i: 92800 loss: 37289.9482\n",
      "i: 92900 loss: 37289.9482\n",
      "i: 93000 loss: 37289.9482\n",
      "i: 93100 loss: 37289.9482\n",
      "i: 93200 loss: 37289.9482\n",
      "i: 93300 loss: 37289.9482\n",
      "i: 93400 loss: 37289.9482\n",
      "i: 93500 loss: 37289.9482\n",
      "i: 93600 loss: 37289.9482\n",
      "i: 93700 loss: 37289.9482\n",
      "i: 93800 loss: 37289.9482\n",
      "i: 93900 loss: 37289.9482\n",
      "i: 94000 loss: 37289.9482\n",
      "i: 94100 loss: 37289.9482\n",
      "i: 94200 loss: 37289.9482\n",
      "i: 94300 loss: 37289.9482\n",
      "i: 94400 loss: 37289.9482\n",
      "i: 94500 loss: 37289.9482\n",
      "i: 94600 loss: 37289.9482\n",
      "i: 94700 loss: 37289.9482\n",
      "i: 94800 loss: 37289.9482\n",
      "i: 94900 loss: 37289.9482\n",
      "i: 95000 loss: 37289.9482\n",
      "i: 95100 loss: 37289.9482\n",
      "i: 95200 loss: 37289.9482\n",
      "i: 95300 loss: 37289.9482\n",
      "i: 95400 loss: 37289.9482\n",
      "i: 95500 loss: 37289.9482\n",
      "i: 95600 loss: 37289.9482\n",
      "i: 95700 loss: 37289.9482\n",
      "i: 95800 loss: 37289.9482\n",
      "i: 95900 loss: 37289.9482\n",
      "i: 96000 loss: 37289.9482\n",
      "i: 96100 loss: 37289.9482\n",
      "i: 96200 loss: 37289.9482\n",
      "i: 96300 loss: 37289.9482\n",
      "i: 96400 loss: 37289.9482\n",
      "i: 96500 loss: 37289.9482\n",
      "i: 96600 loss: 37289.9482\n",
      "i: 96700 loss: 37289.9482\n",
      "i: 96800 loss: 37289.9482\n",
      "i: 96900 loss: 37289.9482\n",
      "i: 97000 loss: 37289.9482\n",
      "i: 97100 loss: 37289.9482\n",
      "i: 97200 loss: 37289.9482\n",
      "i: 97300 loss: 37289.9482\n",
      "i: 97400 loss: 37289.9482\n",
      "i: 97500 loss: 37289.9482\n",
      "i: 97600 loss: 37289.9482\n",
      "i: 97700 loss: 37289.9482\n",
      "i: 97800 loss: 37289.9482\n",
      "i: 97900 loss: 37289.9482\n",
      "i: 98000 loss: 37289.9482\n",
      "i: 98100 loss: 37289.9482\n",
      "i: 98200 loss: 37289.9482\n",
      "i: 98300 loss: 37289.9482\n",
      "i: 98400 loss: 37289.9482\n",
      "i: 98500 loss: 37289.9482\n",
      "i: 98600 loss: 37289.9482\n",
      "i: 98700 loss: 37289.9482\n",
      "i: 98800 loss: 37289.9482\n",
      "i: 98900 loss: 37289.9482\n",
      "i: 99000 loss: 37289.9482\n",
      "i: 99100 loss: 37289.9482\n",
      "i: 99200 loss: 37289.9482\n",
      "i: 99300 loss: 37289.9482\n",
      "i: 99400 loss: 37289.9482\n",
      "i: 99500 loss: 37289.9482\n",
      "i: 99600 loss: 37289.9482\n",
      "i: 99700 loss: 37289.9482\n",
      "i: 99800 loss: 37289.9482\n",
      "i: 99900 loss: 37289.9482\n"
     ]
    }
   ],
   "source": [
    "# Initialize random parameters\n",
    "w = torch.randn(1, requires_grad=True)\n",
    "b = torch.randn(1, requires_grad=True)\n",
    "\n",
    "# define cost function\n",
    "def cost(w, b):\n",
    "    y = w * x ** 4 + b\n",
    "    return (1 / N) * torch.sum( (y - t) ** 2)\n",
    "\n",
    "\n",
    "# Find the gradient of the cost function using pytorch\n",
    "num_iterations = 100000 # Number of iterations\n",
    "lr = 1e-6  # Learning rate\n",
    "\n",
    "for i in range(num_iterations):\n",
    "\n",
    "    # Evaluate the gradient of the current parameters stored in params\n",
    "    loss = cost(w, b)\n",
    "    loss.backward()\n",
    "\n",
    "    if i % 100 == 0:\n",
    "        print(f\"i: {i:<5d} loss: {loss.item():.4f}\")\n",
    "\n",
    "    # Update parameters w and b\n",
    "    with torch.no_grad():\n",
    "\n",
    "        w.data = w - lr * w.grad\n",
    "        b.data = b - lr * b.grad\n",
    "\n",
    "        w.grad.zero_()  # we set the gradients to zero before the next iteration\n",
    "        b.grad.zero_()\n",
    "\n",
    "\n",
    "\n"
   ]
  },
  {
   "cell_type": "code",
   "execution_count": 55,
   "metadata": {},
   "outputs": [
    {
     "data": {
      "text/plain": [
       "[<matplotlib.lines.Line2D at 0x15e8782b0>]"
      ]
     },
     "execution_count": 55,
     "metadata": {},
     "output_type": "execute_result"
    },
    {
     "data": {
      "image/png": "[encoded data removed]",
      "text/plain": [
       "<Figure size 432x288 with 1 Axes>"
      ]
     },
     "metadata": {
      "needs_background": "light"
     },
     "output_type": "display_data"
    }
   ],
   "source": [
    "b_numpy = b.detach().numpy()\n",
    "w_numpy = w.detach().numpy()\n",
    "\n",
    "plt.plot(x, t, \"r.\")\n",
    "plt.plot([-2, 10], [b_numpy, w_numpy * 10 + b_numpy], \"b-\")"
   ]
  },
  {
   "cell_type": "code",
   "execution_count": null,
   "metadata": {},
   "outputs": [],
   "source": []
  },
  {
   "cell_type": "markdown",
   "metadata": {},
   "source": [
    "### Exercise: Automatic Differentiation in Finance: call option pricing and derivatives"
   ]
  },
  {
   "cell_type": "markdown",
   "metadata": {},
   "source": [
    "Let's consider the following model for the price of a call option, which uses the Black-Scholes formula, with the following variables:\n",
    "\n",
    "* $K$ is the strike price of the option\n",
    "* $S_t$ is the price of the underlying asset at time $t$\n",
    "* $t$ is the current time in years\n",
    "* $T$ time of option expiration in years\n",
    "* $\\sigma$ is the standard deviation of the asset returns\n",
    "* $r$ is the risk-free interest rate (annualized)\n",
    "* $N(x)$ is the cumulative distribution function of the standard normal distribution\n",
    "\n",
    "\n",
    "$$\n",
    "C(S_t, t) = N(d_1) S_t - N(d_2) K e^{-r(T-t)}\n",
    "$$\n",
    "$$\n",
    "d_1 = \\frac{1}{\\sigma\\sqrt{T-t}}[\\ln(\\frac{S_t}{K}) + (r + \\frac{\\sigma^2}{2})(T-t)]\n",
    "$$\n",
    "$$\n",
    "d_2 = d_1 - \\sigma\\sqrt{T-t}\n",
    "$$"
   ]
  },
  {
   "cell_type": "markdown",
   "metadata": {},
   "source": [
    "1. Implement the previous function to compute the price C of a call option:"
   ]
  },
  {
   "cell_type": "code",
   "execution_count": 1,
   "metadata": {},
   "outputs": [],
   "source": [
    "from torch.distributions import Normal\n",
    "import torch\n",
    "\n",
    "std_norm_cdf = Normal(0, 1).cdf   # you can use this for the cdf of the standard normal distribution"
   ]
  },
  {
   "cell_type": "code",
   "execution_count": 68,
   "metadata": {},
   "outputs": [],
   "source": [
    "def call_option_price_(K, S, T, sigma, r):\n",
    "    d1 = 1 / (sigma*torch.sqrt(T)) * (torch.log(S/K) + (r + 0.5*sigma**2)*T)\n",
    "    d2 = d1 - sigma*torch.sqrt(T)\n",
    "    price = std_norm_cdf(d1)*S - std_norm_cdf(d2)*K*torch.exp(-r*T)\n",
    "    return price\n",
    "\n",
    "# this is the same as the previous one, it does not matter if we use auxiliary variables\n",
    "def call_option_price(K, S, T, sigma, r):\n",
    "    d1 = 1 / (sigma*torch.sqrt(T)) * (torch.log(S/K) + (r + 0.5*sigma**2)*T)\n",
    "    price = std_norm_cdf(d1)*S - std_norm_cdf(d1 - sigma*torch.sqrt(T))*K*torch.exp(-r*T)\n",
    "    return price\n",
    "\n"
   ]
  },
  {
   "cell_type": "markdown",
   "metadata": {},
   "source": [
    " 2. Calculate the price of a call option with the underyling at 100, strike price at 100, 1 year to expiration, 5% annual volatility, and a risk-free rate of 1% annually."
   ]
  },
  {
   "cell_type": "code",
   "execution_count": 69,
   "metadata": {},
   "outputs": [
    {
     "data": {
      "text/plain": [
       "tensor(2.5216)"
      ]
     },
     "execution_count": 69,
     "metadata": {},
     "output_type": "execute_result"
    }
   ],
   "source": [
    "S = torch.tensor(100)\n",
    "K = torch.tensor(100)\n",
    "T = torch.tensor(1)\n",
    "sigma = torch.tensor(0.05)\n",
    "r = torch.tensor(0.01)\n",
    "\n",
    "price = call_option_price(K=K, S=S, T=T, sigma=sigma, r=r)\n",
    "price\n"
   ]
  },
  {
   "cell_type": "markdown",
   "metadata": {},
   "source": [
    "The **greeks** are the partial derivatives of the option price with respect to the different parameters. They are used to hedge the risk of the option.\n",
    "\n",
    "https://en.wikipedia.org/wiki/Greeks_(finance)\n",
    "\n",
    "\n",
    "3. Compute the greeks Delta, Vega, Theta and Rho for the previous values of the option."
   ]
  },
  {
   "cell_type": "code",
   "execution_count": 70,
   "metadata": {},
   "outputs": [
    {
     "name": "stdout",
     "output_type": "stream",
     "text": [
      "Delta: tensor(0.5890)\n",
      "tensor(-0.5638)\n",
      "tensor(1.5362)\n",
      "tensor(38.8971)\n",
      "tensor(56.3794)\n"
     ]
    }
   ],
   "source": [
    "S = torch.tensor(100.0, requires_grad=True)\n",
    "K = torch.tensor(100.0, requires_grad=True)\n",
    "T = torch.tensor(1.0, requires_grad=True)\n",
    "sigma = torch.tensor(0.05, requires_grad=True)\n",
    "r = torch.tensor(0.01, requires_grad=True)\n",
    "\n",
    "price = call_option_price(K=K, S=S, T=T, sigma=sigma, r=r)\n",
    "\n",
    "\n",
    "price.backward()\n",
    "\n",
    "print(\"Delta:\", S.grad)\n",
    "print(K.grad)\n",
    "print(T.grad)\n",
    "print(sigma.grad)\n",
    "print(r.grad)"
   ]
  },
  {
   "cell_type": "code",
   "execution_count": null,
   "metadata": {},
   "outputs": [],
   "source": []
  }
 ],
 "metadata": {
  "kernelspec": {
   "display_name": "base",
   "language": "python",
   "name": "python3"
  },
  "language_info": {
   "codemirror_mode": {
    "name": "ipython",
    "version": 3
   },
   "file_extension": ".py",
   "mimetype": "text/x-python",
   "name": "python",
   "nbconvert_exporter": "python",
   "pygments_lexer": "ipython3",
   "version": "3.9.7"
  }
 },
 "nbformat": 4,
 "nbformat_minor": 2
}
