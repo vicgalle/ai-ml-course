{
 "cells": [
  {
   "cell_type": "markdown",
   "metadata": {},
   "source": [
    "## Introduction to Computer Vision with Deep Learning\n",
    "\n",
    "One of the successful branches of artificial intelligence is **computer vision**, which allows computer to gain some insights from digital images and/or video. Neural networks can be successfully used for computer vision tasks.\n",
    "\n",
    "Imagine you’re developing a system to recognize printed text. You’ve used some algorithmic approach to align the page and cut out individual characters in the text, and now you need to recognize individual letters. This problem is called **image classification**, because we need to separate input images into different classes. Other examples of such a problem would be automatically sorting post-cards according to the image, or determining product type in a delivery system from a photograph.\n",
    "\n",
    "In this notebook, we will use a simple feed-forward neural network (linear layers), and the the following one, we will start with **convolutional neural networks** (CNNs), which are the most successful type of neural network for computer vision tasks."
   ]
  },
  {
   "cell_type": "code",
   "execution_count": 2,
   "metadata": {},
   "outputs": [],
   "source": [
    "import torch\n",
    "import torchvision\n",
    "import matplotlib.pyplot as plt\n",
    "import numpy as np"
   ]
  },
  {
   "cell_type": "markdown",
   "metadata": {},
   "source": [
    "We will start with another well-known dataset: the MNIST database of handwritten digits. It contains 60,000 training images and 10,000 testing images. Each image is a 28x28 pixel grayscale image of a single digit. The goal is to classify the images into the correct digit (0-9)."
   ]
  },
  {
   "cell_type": "markdown",
   "metadata": {},
   "source": [
    "![mnist](images/mnist.png)"
   ]
  },
  {
   "cell_type": "markdown",
   "metadata": {},
   "source": [
    "#### 1. Loading the dataset"
   ]
  },
  {
   "cell_type": "code",
   "execution_count": 3,
   "metadata": {},
   "outputs": [
    {
     "name": "stdout",
     "output_type": "stream",
     "text": [
      "Downloading http://yann.lecun.com/exdb/mnist/train-images-idx3-ubyte.gz\n",
      "Downloading http://yann.lecun.com/exdb/mnist/train-images-idx3-ubyte.gz to ./data/MNIST/raw/train-images-idx3-ubyte.gz\n"
     ]
    },
    {
     "name": "stderr",
     "output_type": "stream",
     "text": [
      "100%|██████████| 9912422/9912422 [00:00<00:00, 10076671.37it/s]\n"
     ]
    },
    {
     "name": "stdout",
     "output_type": "stream",
     "text": [
      "Extracting ./data/MNIST/raw/train-images-idx3-ubyte.gz to ./data/MNIST/raw\n",
      "\n",
      "Downloading http://yann.lecun.com/exdb/mnist/train-labels-idx1-ubyte.gz\n",
      "Downloading http://yann.lecun.com/exdb/mnist/train-labels-idx1-ubyte.gz to ./data/MNIST/raw/train-labels-idx1-ubyte.gz\n"
     ]
    },
    {
     "name": "stderr",
     "output_type": "stream",
     "text": [
      "100%|██████████| 28881/28881 [00:00<00:00, 31124278.99it/s]"
     ]
    },
    {
     "name": "stdout",
     "output_type": "stream",
     "text": [
      "Extracting ./data/MNIST/raw/train-labels-idx1-ubyte.gz to ./data/MNIST/raw\n",
      "\n",
      "Downloading http://yann.lecun.com/exdb/mnist/t10k-images-idx3-ubyte.gz\n",
      "Downloading http://yann.lecun.com/exdb/mnist/t10k-images-idx3-ubyte.gz to ./data/MNIST/raw/t10k-images-idx3-ubyte.gz\n"
     ]
    },
    {
     "name": "stderr",
     "output_type": "stream",
     "text": [
      "\n",
      "100%|██████████| 1648877/1648877 [00:00<00:00, 8720338.78it/s]\n"
     ]
    },
    {
     "name": "stdout",
     "output_type": "stream",
     "text": [
      "Extracting ./data/MNIST/raw/t10k-images-idx3-ubyte.gz to ./data/MNIST/raw\n",
      "\n",
      "Downloading http://yann.lecun.com/exdb/mnist/t10k-labels-idx1-ubyte.gz\n",
      "Downloading http://yann.lecun.com/exdb/mnist/t10k-labels-idx1-ubyte.gz to ./data/MNIST/raw/t10k-labels-idx1-ubyte.gz\n"
     ]
    },
    {
     "name": "stderr",
     "output_type": "stream",
     "text": [
      "100%|██████████| 4542/4542 [00:00<00:00, 13804730.99it/s]\n"
     ]
    },
    {
     "name": "stdout",
     "output_type": "stream",
     "text": [
      "Extracting ./data/MNIST/raw/t10k-labels-idx1-ubyte.gz to ./data/MNIST/raw\n",
      "\n"
     ]
    }
   ],
   "source": [
    "from torchvision.transforms import ToTensor\n",
    "\n",
    "data_train = torchvision.datasets.MNIST('./data',\n",
    "        download=True,train=True,transform=ToTensor())\n",
    "data_test = torchvision.datasets.MNIST('./data',\n",
    "        download=True,train=False,transform=ToTensor())"
   ]
  },
  {
   "cell_type": "code",
   "execution_count": 4,
   "metadata": {},
   "outputs": [
    {
     "data": {
      "image/png": "[encoded data removed]",
      "text/plain": [
       "<Figure size 432x288 with 7 Axes>"
      ]
     },
     "metadata": {
      "needs_background": "light"
     },
     "output_type": "display_data"
    }
   ],
   "source": [
    "fig,ax = plt.subplots(1,7)\n",
    "for i in range(7):\n",
    "    ax[i].imshow(data_train[i][0].view(28,28))\n",
    "    ax[i].set_title(data_train[i][1])\n",
    "    ax[i].axis('off')"
   ]
  },
  {
   "cell_type": "code",
   "execution_count": 5,
   "metadata": {},
   "outputs": [
    {
     "name": "stdout",
     "output_type": "stream",
     "text": [
      "Training samples: 60000\n",
      "Test samples: 10000\n",
      "Tensor size: torch.Size([1, 28, 28])\n",
      "First 10 digits are: [5, 0, 4, 1, 9, 2, 1, 3, 1, 4]\n"
     ]
    }
   ],
   "source": [
    "print('Training samples:',len(data_train))\n",
    "print('Test samples:',len(data_test))\n",
    "\n",
    "print('Tensor size:',data_train[0][0].size())\n",
    "print('First 10 digits are:', [data_train[i][1] for i in range(10)])"
   ]
  },
  {
   "cell_type": "markdown",
   "metadata": {},
   "source": [
    "All pixel intensities of the images are represented by floating-point values in between 0 and 1:"
   ]
  },
  {
   "cell_type": "code",
   "execution_count": 6,
   "metadata": {},
   "outputs": [
    {
     "name": "stdout",
     "output_type": "stream",
     "text": [
      "Min intensity value:  0.0\n",
      "Max intensity value:  1.0\n"
     ]
    }
   ],
   "source": [
    "print('Min intensity value: ',data_train[0][0].min().item())\n",
    "print('Max intensity value: ',data_train[0][0].max().item())"
   ]
  },
  {
   "cell_type": "markdown",
   "metadata": {},
   "source": [
    "And as usual, we define the DataLoaders with a batch size.\n",
    "\n",
    "Note the greater the batch size, the faster it trains, but you can quickly fill up the RAM memory of your machine!"
   ]
  },
  {
   "cell_type": "code",
   "execution_count": 7,
   "metadata": {},
   "outputs": [],
   "source": [
    "batch_size = 128\n",
    "train_loader = torch.utils.data.DataLoader(data_train, batch_size=batch_size)\n",
    "test_loader = torch.utils.data.DataLoader(data_test, batch_size=batch_size)"
   ]
  },
  {
   "cell_type": "markdown",
   "metadata": {},
   "source": [
    "#### 2. Building the model"
   ]
  },
  {
   "cell_type": "code",
   "execution_count": 9,
   "metadata": {},
   "outputs": [],
   "source": [
    "import torch.nn as nn\n",
    "\n",
    "# convert the network to a class that inherits from nn.Module\n",
    "\n",
    "class Net(nn.Module):\n",
    "        def __init__(self):\n",
    "                super(Net,self).__init__()\n",
    "                self.linear = nn.Linear(784,10)\n",
    "        def forward(self,x):\n",
    "                x = nn.Flatten()(x) \n",
    "                x = self.linear(x)\n",
    "                return x\n",
    "        \n",
    "net = Net()"
   ]
  },
  {
   "cell_type": "markdown",
   "metadata": {},
   "source": [
    "Before training, we can inspect the output for a single example"
   ]
  },
  {
   "cell_type": "code",
   "execution_count": 10,
   "metadata": {},
   "outputs": [
    {
     "name": "stdout",
     "output_type": "stream",
     "text": [
      "Digit to be predicted:  5\n",
      "tensor([[ 0.0019,  0.0107, -0.0769,  0.2915, -0.0876,  0.0346,  0.2016, -0.0743,\n",
      "         -0.2038,  0.0474]], grad_fn=<AddmmBackward0>)\n"
     ]
    }
   ],
   "source": [
    "print('Digit to be predicted: ',data_train[0][1])\n",
    "output = net(data_train[0][0])\n",
    "\n",
    "print(output)\n"
   ]
  },
  {
   "cell_type": "markdown",
   "metadata": {},
   "source": [
    "The previous quantities are called the **logits**. They are the raw, unnormalized scores that the model generates, which are then converted to probabilities via the softmax function."
   ]
  },
  {
   "cell_type": "code",
   "execution_count": 11,
   "metadata": {},
   "outputs": [
    {
     "data": {
      "text/plain": [
       "tensor([[0.0978, 0.0987, 0.0904, 0.1306, 0.0894, 0.1011, 0.1194, 0.0906, 0.0796,\n",
       "         0.1024]], grad_fn=<SoftmaxBackward0>)"
      ]
     },
     "execution_count": 11,
     "metadata": {},
     "output_type": "execute_result"
    }
   ],
   "source": [
    "probabilities = nn.Softmax(dim=1)(output)\n",
    "\n",
    "probabilities"
   ]
  },
  {
   "cell_type": "markdown",
   "metadata": {},
   "source": [
    "**Notice that since the network is not trained (random), all the probabilities are close to 10%**"
   ]
  },
  {
   "cell_type": "markdown",
   "metadata": {},
   "source": [
    "#### 3. Training and evaluating the model\n",
    "\n",
    "Let's define some functions so we have everything ready in one place:"
   ]
  },
  {
   "cell_type": "markdown",
   "metadata": {},
   "source": [
    "**Summary** The training process steps are as follows:\n",
    "\n",
    "1. We take a minibatch from the input dataset, which consists of input data (features) and expected result (label).\n",
    "2. We calculate the predicted result for this minibatch. \n",
    "3. The difference between this result and expected result is calculated using a special function called the **loss function**. Loss function shows how different the output of the network is from the expected output. The goal of our training is to minimize the loss. \n",
    "4. We calculate the gradients of this loss function with respect to model weights (parameters), which are then used to adjust the weights to optimize the performance of the network. The amount of adjustment is controlled by a parameter called **learning rate**, and the details of optimization algorithm are defined in the **optimizer** object.\n",
    "5. We repeat those steps until the whole dataset is processed. One complete pass through the dataset is called **an epoch**. \n",
    "\n",
    "Here is a function that performs one epoch training: "
   ]
  },
  {
   "cell_type": "code",
   "execution_count": 13,
   "metadata": {},
   "outputs": [],
   "source": [
    "def train_epoch(net,dataloader,lr=0.01,optimizer=None,loss_fn = nn.CrossEntropyLoss()):\n",
    "    optimizer = optimizer or torch.optim.SGD(net.parameters(),lr=lr)\n",
    "    net.train()\n",
    "    total_loss,acc,count = 0,0,0\n",
    "    for features,labels in dataloader:\n",
    "        optimizer.zero_grad()\n",
    "        out = net(features)\n",
    "        loss = loss_fn(out,labels)\n",
    "        loss.backward()\n",
    "        optimizer.step()\n",
    "        total_loss+=loss\n",
    "        _,predicted = torch.max(out,1)\n",
    "        acc+=(predicted==labels).sum()\n",
    "        count+=len(labels)\n",
    "    return total_loss.item()/count, acc.item()/count"
   ]
  },
  {
   "cell_type": "code",
   "execution_count": 14,
   "metadata": {},
   "outputs": [
    {
     "data": {
      "text/plain": [
       "(0.009894598388671875, 0.7506333333333334)"
      ]
     },
     "execution_count": 14,
     "metadata": {},
     "output_type": "execute_result"
    }
   ],
   "source": [
    "train_epoch(net,train_loader)"
   ]
  },
  {
   "cell_type": "markdown",
   "metadata": {},
   "source": [
    "The function calculates and returns the average loss per data item, and training accuracy (percentage of cases guessed correctly). By observing this loss during training we can see whether the network is improving and learning from the data provided.\n",
    "\n",
    "It is also important to control the accuracy on the test dataset (also called **validation accuracy**). A good neural network with a lot of parameters can predict with decent accuracy on any training dataset, but it may poorly generalize to other data. That's why in most cases we set aside part of our data, and then periodically check how well the model performs on them. Here is the function to evaluate the network on test dataset:"
   ]
  },
  {
   "cell_type": "code",
   "execution_count": 15,
   "metadata": {},
   "outputs": [
    {
     "data": {
      "text/plain": [
       "(0.006338585662841797, 0.8433)"
      ]
     },
     "execution_count": 15,
     "metadata": {},
     "output_type": "execute_result"
    }
   ],
   "source": [
    "def validate(net, dataloader,loss_fn=nn.CrossEntropyLoss()):\n",
    "    net.eval()\n",
    "    count,acc,loss = 0,0,0\n",
    "    with torch.no_grad():\n",
    "        for features,labels in dataloader:\n",
    "            out = net(features)\n",
    "            loss += loss_fn(out,labels) \n",
    "            pred = torch.max(out,1)[1]\n",
    "            acc += (pred==labels).sum()\n",
    "            count += len(labels)\n",
    "    return loss.item()/count, acc.item()/count\n",
    "\n",
    "validate(net,test_loader)"
   ]
  },
  {
   "cell_type": "markdown",
   "metadata": {},
   "source": [
    "Below is the training function that can be used to perform both training and validation. It prints the training and validation accuracy for each epoch, and also returns the history that can be used to plot the loss and accuracy on the graph."
   ]
  },
  {
   "cell_type": "code",
   "execution_count": 18,
   "metadata": {},
   "outputs": [
    {
     "name": "stdout",
     "output_type": "stream",
     "text": [
      "Epoch  0, Train acc=0.761, Val acc=0.846, Train loss=0.010, Val loss=0.006\n",
      "Epoch  1, Train acc=0.848, Val acc=0.867, Train loss=0.006, Val loss=0.005\n",
      "Epoch  2, Train acc=0.863, Val acc=0.878, Train loss=0.005, Val loss=0.004\n",
      "Epoch  3, Train acc=0.872, Val acc=0.884, Train loss=0.004, Val loss=0.004\n",
      "Epoch  4, Train acc=0.878, Val acc=0.888, Train loss=0.004, Val loss=0.004\n"
     ]
    }
   ],
   "source": [
    "def train(net,train_loader,test_loader,optimizer=None,lr=0.01,epochs=10,loss_fn=nn.CrossEntropyLoss()):\n",
    "    optimizer = optimizer or torch.optim.SGD(net.parameters(),lr=lr)\n",
    "    res = { 'train_loss' : [], 'train_acc': [], 'val_loss': [], 'val_acc': []}\n",
    "    for ep in range(epochs):\n",
    "        tl,ta = train_epoch(net,train_loader,optimizer=optimizer,lr=lr,loss_fn=loss_fn)\n",
    "        vl,va = validate(net,test_loader,loss_fn=loss_fn)\n",
    "        print(f\"Epoch {ep:2}, Train acc={ta:.3f}, Val acc={va:.3f}, Train loss={tl:.3f}, Val loss={vl:.3f}\")\n",
    "        res['train_loss'].append(tl)\n",
    "        res['train_acc'].append(ta)\n",
    "        res['val_loss'].append(vl)\n",
    "        res['val_acc'].append(va)\n",
    "    return res\n",
    "\n",
    "# Re-initialize the network to start from scratch\n",
    "net = Net()\n",
    "\n",
    "hist = train(net,train_loader,test_loader,epochs=5)"
   ]
  },
  {
   "cell_type": "code",
   "execution_count": 19,
   "metadata": {},
   "outputs": [
    {
     "data": {
      "text/plain": [
       "<matplotlib.legend.Legend at 0x2a41fb490>"
      ]
     },
     "execution_count": 19,
     "metadata": {},
     "output_type": "execute_result"
    },
    {
     "data": {
      "image/png": "[encoded data removed]",
      "text/plain": [
       "<Figure size 1080x360 with 2 Axes>"
      ]
     },
     "metadata": {
      "needs_background": "light"
     },
     "output_type": "display_data"
    }
   ],
   "source": [
    "plt.figure(figsize=(15,5))\n",
    "plt.subplot(121)\n",
    "plt.plot(hist['train_acc'], label='Training acc')\n",
    "plt.plot(hist['val_acc'], label='Validation acc')\n",
    "plt.legend()\n",
    "plt.subplot(122)\n",
    "plt.plot(hist['train_loss'], label='Training loss')\n",
    "plt.plot(hist['val_loss'], label='Validation loss')\n",
    "plt.legend()"
   ]
  },
  {
   "cell_type": "markdown",
   "metadata": {},
   "source": [
    "**On overfitting**: Normally when training a neural network, we train the model for several epochs observing training and validation accuracy. In the beginning, both training and validation accuracy should increase, as the network picks up the patterns in the dataset. However, at some point it can happen that training accuracy increases while validation accuracy starts to decrease. That would be an indication of overfitting, that is model does well on your training dataset, but not on new data.\n",
    "\n",
    "**Question**: Is the previous model overfitting, based on the graphs?"
   ]
  },
  {
   "cell_type": "code",
   "execution_count": null,
   "metadata": {},
   "outputs": [],
   "source": []
  },
  {
   "cell_type": "markdown",
   "metadata": {},
   "source": [
    "The previous network didn't overfit (yet), so let's try with a larger network, with another layer."
   ]
  },
  {
   "cell_type": "code",
   "execution_count": 20,
   "metadata": {},
   "outputs": [],
   "source": [
    "from torch.nn.functional import relu  # another way to use the ReLU activation.\n",
    "\n",
    "class MyNet(nn.Module):\n",
    "    def __init__(self):\n",
    "        super(MyNet, self).__init__()\n",
    "        self.flatten = nn.Flatten()\n",
    "        self.hidden = nn.Linear(784,100)\n",
    "        self.out = nn.Linear(100,10)\n",
    "\n",
    "    def forward(self, x):\n",
    "        x = self.flatten(x)\n",
    "        x = self.hidden(x)\n",
    "        x = relu(x)\n",
    "        x = self.out(x)\n",
    "        return x\n",
    "\n",
    "net = MyNet()"
   ]
  },
  {
   "cell_type": "code",
   "execution_count": 28,
   "metadata": {},
   "outputs": [
    {
     "name": "stdout",
     "output_type": "stream",
     "text": [
      "Epoch  0, Train acc=0.167, Val acc=0.201, Train loss=0.219, Val loss=0.016\n",
      "Epoch  1, Train acc=0.190, Val acc=0.200, Train loss=0.016, Val loss=0.016\n",
      "Epoch  2, Train acc=0.199, Val acc=0.206, Train loss=0.016, Val loss=0.016\n",
      "Epoch  3, Train acc=0.178, Val acc=0.199, Train loss=0.017, Val loss=0.016\n",
      "Epoch  4, Train acc=0.174, Val acc=0.199, Train loss=0.017, Val loss=0.016\n",
      "Epoch  5, Train acc=0.166, Val acc=0.139, Train loss=0.017, Val loss=0.017\n",
      "Epoch  6, Train acc=0.120, Val acc=0.096, Train loss=0.018, Val loss=0.018\n",
      "Epoch  7, Train acc=0.100, Val acc=0.096, Train loss=0.018, Val loss=0.018\n",
      "Epoch  8, Train acc=0.100, Val acc=0.096, Train loss=0.018, Val loss=0.018\n",
      "Epoch  9, Train acc=0.100, Val acc=0.096, Train loss=0.018, Val loss=0.018\n"
     ]
    }
   ],
   "source": [
    "hist = train(net,train_loader,test_loader,epochs=10,lr=5.) "
   ]
  },
  {
   "cell_type": "code",
   "execution_count": 29,
   "metadata": {},
   "outputs": [
    {
     "data": {
      "text/plain": [
       "<matplotlib.legend.Legend at 0x2a4b812b0>"
      ]
     },
     "execution_count": 29,
     "metadata": {},
     "output_type": "execute_result"
    },
    {
     "data": {
      "image/png": "[encoded data removed]",
      "text/plain": [
       "<Figure size 1080x360 with 2 Axes>"
      ]
     },
     "metadata": {
      "needs_background": "light"
     },
     "output_type": "display_data"
    }
   ],
   "source": [
    "plt.figure(figsize=(15,5))\n",
    "plt.subplot(121)\n",
    "plt.plot(hist['train_acc'], label='Training acc')\n",
    "plt.plot(hist['val_acc'], label='Validation acc')\n",
    "plt.legend()\n",
    "plt.subplot(122)\n",
    "plt.plot(hist['train_loss'], label='Training loss')\n",
    "plt.plot(hist['val_loss'], label='Validation loss')\n",
    "plt.legend()"
   ]
  },
  {
   "cell_type": "markdown",
   "metadata": {},
   "source": [
    "**Exercise**  Repeat the previous training run by increasing the learning rate to 0.05."
   ]
  },
  {
   "cell_type": "code",
   "execution_count": null,
   "metadata": {},
   "outputs": [],
   "source": []
  },
  {
   "cell_type": "markdown",
   "metadata": {},
   "source": [
    "## Conclusions\n",
    "\n",
    "Training a neural network in PyTorch can be programmed with a training loop. It may seem like a complicated process, but in real life we need to write it once, and we can then re-use this training code later without changing it.\n",
    "\n",
    "We can see that a single-layer and multi-layer neural networks show relatively good performance, but if we try to apply them to more complex images, the accuracy will not be too high. In the next unit, we will introduce the concept of convolutions, which allow us to get much better performance for image recognition."
   ]
  }
 ],
 "metadata": {
  "kernelspec": {
   "display_name": "base",
   "language": "python",
   "name": "python3"
  },
  "language_info": {
   "codemirror_mode": {
    "name": "ipython",
    "version": 3
   },
   "file_extension": ".py",
   "mimetype": "text/x-python",
   "name": "python",
   "nbconvert_exporter": "python",
   "pygments_lexer": "ipython3",
   "version": "3.9.7"
  }
 },
 "nbformat": 4,
 "nbformat_minor": 2
}