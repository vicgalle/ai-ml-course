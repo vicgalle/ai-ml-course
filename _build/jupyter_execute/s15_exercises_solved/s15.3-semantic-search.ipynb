{
 "cells": [
  {
   "cell_type": "markdown",
   "metadata": {},
   "source": [
    "## Exercise: Product Item Recommender 🧥\n",
    "\n",
    "In this exercise, we will build a product item recommender that, given a user image, recommends similar products (related images).\n",
    "\n",
    "First, familiarize yourself with the data:\n",
    "\n",
    "1. Our image database is small, it only has 10 images. You can have a look at them in the `exercise_3_images/database` folder.\n",
    "2. The `exercise_3_images/queries` file contains the test images (only 3). That is, for each of this images, we want to find the **most similar** image in our previous datase, that is our recommendation.."
   ]
  },
  {
   "cell_type": "markdown",
   "metadata": {},
   "source": [
    "**a)** Discuss, in your own words, how would you approach this problem. \n",
    "\n",
    "That is, what type of learning problem is, and the kind of models you can use to solve it."
   ]
  },
  {
   "cell_type": "markdown",
   "metadata": {},
   "source": []
  },
  {
   "cell_type": "markdown",
   "metadata": {},
   "source": []
  },
  {
   "cell_type": "markdown",
   "metadata": {},
   "source": [
    "**b)** Compute a suitable vector representation of the database images, based on your answer to the previous question."
   ]
  },
  {
   "cell_type": "code",
   "execution_count": null,
   "metadata": {},
   "outputs": [],
   "source": [
    "\n",
    "\n",
    "\n",
    "\n"
   ]
  },
  {
   "cell_type": "markdown",
   "metadata": {},
   "source": [
    "**c)** Finally, for each of the three query images, find the most similar image in the database.\n",
    "\n",
    "For each of the three cases, display both the query image and the most similar image (the recommendation)"
   ]
  },
  {
   "cell_type": "code",
   "execution_count": null,
   "metadata": {},
   "outputs": [],
   "source": [
    "\n",
    "\n",
    "\n",
    "\n"
   ]
  },
  {
   "cell_type": "markdown",
   "metadata": {},
   "source": [
    "**d)** Based on the previous results, discuss the performance of your model for this task (is it good or has some limitations?) \n",
    "\n",
    "Discuss also some potential use cases of this exercise."
   ]
  },
  {
   "cell_type": "markdown",
   "metadata": {},
   "source": []
  }
 ],
 "metadata": {
  "kernelspec": {
   "display_name": "base",
   "language": "python",
   "name": "python3"
  },
  "language_info": {
   "codemirror_mode": {
    "name": "ipython",
    "version": 3
   },
   "file_extension": ".py",
   "mimetype": "text/x-python",
   "name": "python",
   "nbconvert_exporter": "python",
   "pygments_lexer": "ipython3",
   "version": "3.9.7"
  }
 },
 "nbformat": 4,
 "nbformat_minor": 2
}