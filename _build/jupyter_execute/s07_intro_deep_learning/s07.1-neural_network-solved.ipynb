{
 "cells": [
  {
   "cell_type": "markdown",
   "metadata": {},
   "source": [
    "## 07: Introduction to Neural Networks\n",
    "\n",
    "\n",
    "### What is a Neural Network?"
   ]
  },
  {
   "cell_type": "markdown",
   "metadata": {},
   "source": [
    "#### Remark 1\n",
    "\n",
    "Remember that the formula for linear regression can be written as\n",
    "\n",
    "$$\n",
    "\\hat{y} = w x^{\\intercal} + b\n",
    "$$\n",
    "\n",
    "where $\\hat{y}$ is the predicted value, $w \\in \\mathbb{R}^d$ is one parameter, $x\\in \\mathbb{R}^d$ is the input, and $b \\in \\mathbb{R}$ is the bias, another parameter.\n",
    "\n",
    "Note also that $w x^{\\intercal} = \\sum_{i=1}^d w_i x_i$, it is the scalar product of the vectors $w$ and $x$.\n",
    "\n",
    "#### Remark 2\n",
    "\n",
    "From what we saw in previous classes, changing the dimensions of the input in different stages (via a scikit-learn pipeline, for instance), helps improve the performance of the model.\n",
    "\n",
    "![image](images/pipe.png)\n",
    "\n",
    "The previous pipeline, converted each text input:\n",
    "\n",
    "1. First into a vector of ~3000 dimensions (the number of words in the vocabulary)\n",
    "2. Then into a vector of 50 dimensions (via PCA)\n",
    "3. Finally, the output vector is the number of classes.\n",
    "\n",
    "\n",
    "### Can we combine the previous two ideas?\n",
    "\n",
    "Totally, **we can stack linear regressions**, one after the other, in which the output of the previous one is the input of the next one.\n",
    "\n",
    "For example, let's suppose our input $x$ has 1000 dimensions. Then, we want to convert it to a vector of 50 dimensions, and then to a vector of 10 dimensions (the number of classes).\n",
    "\n",
    "That is, we want to go: $\\mathbb{R}^{1000} \\rightarrow \\mathbb{R}^{50} \\rightarrow \\mathbb{R}^{10}$. \n",
    "\n",
    "So we can do:\n",
    "\n",
    "$$\n",
    "h_1 = W_1 x + b_1 \\\\\n",
    "\n",
    "y = W_2 h_1 + b_2\n",
    "$$\n",
    "\n",
    "Note the shapes of each element:\n",
    "\n",
    "* $x \\in \\mathbb{R}^{1000}$\n",
    "* $W_1 \\in \\mathbb{R}^{50 \\times 1000}$\n",
    "* $b_1 \\in \\mathbb{R}^{50}$\n",
    "* $h_1 \\in \\mathbb{R}^{50}$\n",
    "\n",
    "and in the second layer:\n",
    "\n",
    "* $W_2 \\in \\mathbb{R}^{10 \\times 50}$\n",
    "* $b_2 \\in \\mathbb{R}^{10}$\n",
    "\n",
    "thus finally leading to $y \\in \\mathbb{R}^{10}$."
   ]
  },
  {
   "cell_type": "markdown",
   "metadata": {},
   "source": [
    "**Question** What is the problem with the previous model?\n",
    "\n",
    "I.e., can you simplify the expressions?"
   ]
  },
  {
   "cell_type": "code",
   "execution_count": null,
   "metadata": {},
   "outputs": [],
   "source": []
  },
  {
   "cell_type": "code",
   "execution_count": null,
   "metadata": {},
   "outputs": [],
   "source": []
  },
  {
   "cell_type": "markdown",
   "metadata": {},
   "source": [
    "If we substitute the first equation into the second one, we get:\n",
    "\n",
    "$$\n",
    "y = W_2 (W_1 x + b_1) + b_2\n",
    "$$\n",
    "\n",
    "which is equivalent to:\n",
    "\n",
    "$$\n",
    "y = W_2 W_1 x + W_2 b_1 + b_2\n",
    "$$\n",
    "\n",
    "which can be rewritten as:\n",
    "\n",
    "$$\n",
    "y = W x + b\n",
    "$$\n",
    "\n",
    "where $W = W_2 W_1$ and $b = W_2 b_1 + b_2$.\n",
    "\n",
    "**So even the fact that we have two layers, we can still write the model as a linear regression! We have nothing new...**"
   ]
  },
  {
   "cell_type": "markdown",
   "metadata": {},
   "source": [
    "### Our first neural network 🧠\n",
    "\n",
    "The solution to the previous problem is to add a **non-linear function** between the two layers. This function is called the **activation function**, and is tipycally denoted by the sigma letter $\\sigma$.\n",
    "\n",
    "So, our model becomes:\n",
    "\n",
    "$$\n",
    "h_1 = W_1 x + b_1 \\\\\n",
    "z_2 = \\sigma(h_1) \\\\\n",
    "y = W_2 z_2 + b_2\n",
    "$$\n",
    "\n",
    "where $\\sigma$ is the activation function.\n",
    "\n",
    "Now, since we have added a non-linear function, we cannot simplify the expressions as before. So, we have a new model! **And because of the two layers, and the non-linear activation function, this model is much more flexible and powerful than linear regression.**\n",
    "\n",
    "Here is the list of the most common activation functions:\n",
    "\n",
    "![image](images/activations.png)"
   ]
  },
  {
   "cell_type": "markdown",
   "metadata": {},
   "source": [
    "### An example of activation function in pytorch\n",
    "\n",
    "Nowadays, the most common activation function is the **rectified linear unit** (ReLU). In pytorch, all the activation functions are defined here: https://pytorch.org/docs/stable/nn.html#non-linear-activations-weighted-sum-nonlinearity"
   ]
  },
  {
   "cell_type": "code",
   "execution_count": 1,
   "metadata": {},
   "outputs": [],
   "source": [
    "import torch\n",
    "import torch.nn as nn  # this already has functions defined for us."
   ]
  },
  {
   "cell_type": "code",
   "execution_count": 2,
   "metadata": {},
   "outputs": [
    {
     "name": "stdout",
     "output_type": "stream",
     "text": [
      "tensor([1, 2, 3, 4, 0, 0, 0, 0])\n"
     ]
    }
   ],
   "source": [
    "x = torch.tensor([1, 2, 3, 4, -1, -2, -3, -4])\n",
    "\n",
    "h = nn.ReLU()(x)\n",
    "\n",
    "print(h)"
   ]
  },
  {
   "cell_type": "code",
   "execution_count": 3,
   "metadata": {},
   "outputs": [
    {
     "name": "stdout",
     "output_type": "stream",
     "text": [
      "tensor([1, 2, 3, 4, 0, 0, 0, 0])\n"
     ]
    }
   ],
   "source": [
    "# We can also use the functional API to do the same thing.\n",
    "\n",
    "h = nn.functional.relu(x)\n",
    "\n",
    "print(h)"
   ]
  },
  {
   "cell_type": "markdown",
   "metadata": {},
   "source": [
    "#### Why the ReLU?\n",
    "\n",
    "Though the activation function is an hyperparameter of the model, the ReLU is the most commonly used today. \n",
    "\n",
    "**The reason is that it is very cheap to compute (compared with the others), as it only requires to check if the input is positive or negative.**\n",
    "\n",
    "In the end, what we care about in a neural network is that it can compute the transformations as fast as possible, so that we can train it in a reasonable amount of time."
   ]
  },
  {
   "cell_type": "code",
   "execution_count": null,
   "metadata": {},
   "outputs": [],
   "source": []
  },
  {
   "cell_type": "markdown",
   "metadata": {},
   "source": [
    "### Defining neural networks in pytorch\n",
    "\n",
    "Our previous NN model:\n",
    "\n",
    "$$\n",
    "h_1 = W_1 x + b_1 \\\\\n",
    "z_2 = \\sigma(h_1) \\\\\n",
    "y = W_2 z_2 + b_2\n",
    "$$\n",
    "\n",
    "corresponds to the following pytorch code:\n",
    "\n",
    "```python\n",
    "import torch\n",
    "import torch.nn as nn\n",
    "\n",
    "class NeuralNetwork(nn.Module):\n",
    "    def __init__(self):\n",
    "        super(NeuralNetwork, self).__init__()\n",
    "        self.linear1 = nn.Linear(1000, 50)  # the shapes of the W_1 matrix\n",
    "        self.linear2 = nn.Linear(50, 10) # the shapes of the W_2 matrix\n",
    "        self.activation = nn.ReLU() # our non-linear activation function\n",
    "        \n",
    "    def forward(self, x):\n",
    "        h1 = self.linear1(x)\n",
    "        z2 = self.activation(h1)\n",
    "        y = self.linear2(z2)\n",
    "        return y\n",
    "```"
   ]
  },
  {
   "cell_type": "markdown",
   "metadata": {},
   "source": [
    "In pytorch, neural networks are implemented as classes, that have two methods:\n",
    "\n",
    "* `__init__`: where we define the layers of the network\n",
    "* `forward`: where we define the how the layers are computed, that is, the flow of the network\n",
    "\n",
    "**Note that we do not need to define the parameters $W_1, W_2, b_1, b_2$ explicitly, as they are included in the `nn.Linear` layers!**\n",
    "\n",
    "That is, pytorch already knows that the `nn.Linear` layers have parameters, and that they need to be trained. Also, the library contains implementations for the most useful layers. The full list of layers can be seen here:\n",
    "\n",
    "https://pytorch.org/docs/stable/nn.html\n"
   ]
  },
  {
   "cell_type": "markdown",
   "metadata": {},
   "source": [
    "### Training neural networks\n",
    "\n",
    "The training of neural networks is very similar to the training of linear regression models. Note that:\n",
    "\n",
    "* The layers (linear) are differentiable, so we can compute the gradients.\n",
    "* The activation functions are differentiable, so we can compute the gradients.\n",
    "\n",
    "So we only need \n",
    "\n",
    "* some training dataset \n",
    "* a loss function (the same as in linear regression or logistic regression), \n",
    "* and an optimizer (gradient descent).\n",
    "\n",
    "In the case of deep learning, gradient descent (and some variants of it) is the most popular optimizer. The reason is that it is very simple to implement, it only requires first-order derivatives, and it works well in practice for neural networks.\n",
    "\n",
    "> Reminder from Gradient Descent in Session 3."
   ]
  },
  {
   "cell_type": "markdown",
   "metadata": {},
   "source": [
    "Fortunately, pytorch already implements gradient descent for us, so we can simply use it as follows:\n",
    "\n",
    "```python\n",
    "import torch.optim as optim\n",
    "\n",
    "model = NeuralNetwork()\n",
    "optimizer = optim.SGD(model.parameters(), lr=0.01)\n",
    "```\n",
    "\n",
    "* SGD stands for Stochastic Gradient Descent, which is the most common variant of gradient descent used in neural networks. It is **stochastic** because it uses a random subset of the training data to compute the gradients at each iteration.\n",
    "* `lr`  is the learning rate (step size) of gradient descent. Remember that sometimes it has to be manually tuned.\n",
    "\n",
    "\n",
    "Now, let's go back to code to see how can we implement all of this."
   ]
  },
  {
   "cell_type": "markdown",
   "metadata": {},
   "source": [
    "### Review: linear regression in the old way"
   ]
  },
  {
   "cell_type": "code",
   "execution_count": null,
   "metadata": {},
   "outputs": [],
   "source": []
  },
  {
   "cell_type": "code",
   "execution_count": 4,
   "metadata": {},
   "outputs": [],
   "source": [
    "import torch\n",
    "import numpy as np\n",
    "import matplotlib.pyplot as plt\n",
    "\n",
    "%matplotlib inline"
   ]
  },
  {
   "cell_type": "markdown",
   "metadata": {},
   "source": [
    "This is our training dataset..."
   ]
  },
  {
   "cell_type": "code",
   "execution_count": 5,
   "metadata": {},
   "outputs": [
    {
     "data": {
      "image/png": "[encoded data removed]",
      "text/plain": [
       "<Figure size 432x288 with 1 Axes>"
      ]
     },
     "metadata": {
      "needs_background": "light"
     },
     "output_type": "display_data"
    }
   ],
   "source": [
    "X_train = np.arange(10, dtype='float32').reshape((10, 1))\n",
    "y_train = np.array([1.0, 1.3, 3.1, 2.0, 5.0, 6.3, 6.6, \n",
    "                    7.4, 8.0, 9.0], dtype='float32')\n",
    "\n",
    "plt.plot(X_train, y_train, 'o', markersize=10)\n",
    "plt.xlabel('x')\n",
    "plt.ylabel('y')\n",
    "\n",
    "plt.show()"
   ]
  },
  {
   "cell_type": "markdown",
   "metadata": {},
   "source": [
    "We normalize the data before, and convert to pytorch tensors."
   ]
  },
  {
   "cell_type": "code",
   "execution_count": 6,
   "metadata": {},
   "outputs": [],
   "source": [
    "X_train_norm = (X_train - np.mean(X_train)) / np.std(X_train)\n",
    "X_train_norm = torch.from_numpy(X_train_norm)\n",
    "y_train = torch.from_numpy(y_train).float()"
   ]
  },
  {
   "cell_type": "markdown",
   "metadata": {},
   "source": [
    "**New!** In Pytorch we also have DataLoader, which is a class that helps us to iterate over the data in mini-batches of a subset of examples\n",
    "\n"
   ]
  },
  {
   "cell_type": "code",
   "execution_count": 7,
   "metadata": {},
   "outputs": [],
   "source": [
    "from torch.utils.data import TensorDataset\n",
    "from torch.utils.data import DataLoader\n",
    "\n",
    "train_ds = TensorDataset(X_train_norm, y_train)\n",
    "\n",
    "batch_size = 1  # we want to iterate over all samples, one by one\n",
    "train_dl = DataLoader(train_ds, batch_size, shuffle=True)"
   ]
  },
  {
   "cell_type": "code",
   "execution_count": 8,
   "metadata": {},
   "outputs": [
    {
     "name": "stdout",
     "output_type": "stream",
     "text": [
      "example: tensor([[-1.5667]]) target: tensor([1.])\n",
      "example: tensor([[1.2185]]) target: tensor([8.])\n",
      "example: tensor([[0.8704]]) target: tensor([7.4000])\n",
      "example: tensor([[0.1741]]) target: tensor([6.3000])\n",
      "example: tensor([[-0.1741]]) target: tensor([5.])\n",
      "example: tensor([[1.5667]]) target: tensor([9.])\n",
      "example: tensor([[-0.8704]]) target: tensor([3.1000])\n",
      "example: tensor([[-0.5222]]) target: tensor([2.])\n",
      "example: tensor([[0.5222]]) target: tensor([6.6000])\n",
      "example: tensor([[-1.2185]]) target: tensor([1.3000])\n"
     ]
    }
   ],
   "source": [
    "# now, we can get a batch of samples from the data loader, using a for loop:\n",
    "for x, y in train_dl:\n",
    "    print('example:', x, 'target:', y)"
   ]
  },
  {
   "cell_type": "markdown",
   "metadata": {},
   "source": [
    "Now, we can define our linear regression manually, writing all the parameters and the loss function:"
   ]
  },
  {
   "cell_type": "code",
   "execution_count": 9,
   "metadata": {},
   "outputs": [
    {
     "name": "stdout",
     "output_type": "stream",
     "text": [
      "Epoch 0  Loss 45.0782\n",
      "Epoch 10  Loss 26.4366\n",
      "Epoch 20  Loss 1.5918\n",
      "Epoch 30  Loss 14.1307\n",
      "Epoch 40  Loss 11.6038\n",
      "Epoch 50  Loss 6.3084\n",
      "Epoch 60  Loss 0.6349\n",
      "Epoch 70  Loss 3.1374\n",
      "Epoch 80  Loss 1.9999\n",
      "Epoch 90  Loss 0.3133\n",
      "Epoch 100  Loss 0.7653\n",
      "Epoch 110  Loss 1.0039\n",
      "Epoch 120  Loss 0.0235\n",
      "Epoch 130  Loss 0.5176\n",
      "Epoch 140  Loss 0.0759\n",
      "Epoch 150  Loss 1.8789\n",
      "Epoch 160  Loss 0.0008\n",
      "Epoch 170  Loss 0.0866\n",
      "Epoch 180  Loss 0.0646\n",
      "Epoch 190  Loss 0.0011\n"
     ]
    }
   ],
   "source": [
    "torch.manual_seed(1)\n",
    "weight = torch.randn(1, requires_grad=True)\n",
    "bias = torch.zeros(1, requires_grad=True)\n",
    "\n",
    "# the loss function is defined as the mean squared error (regression)\n",
    "def loss_fn(input, target):\n",
    "    return (input-target).pow(2).mean()\n",
    "\n",
    "def model(xb):\n",
    "    return xb @ weight + bias\n",
    "\n",
    "learning_rate = 0.001\n",
    "num_epochs = 200  # an epoch is an iteration over the entire dataset\n",
    "log_epochs = 10  # each log_epochs, we print the loss\n",
    "\n",
    "for epoch in range(num_epochs):\n",
    "    for x_batch, y_batch in train_dl:\n",
    "        pred = model(x_batch)\n",
    "        loss = loss_fn(pred, y_batch)\n",
    "        loss.backward()\n",
    "\n",
    "        with torch.no_grad():\n",
    "            weight -= weight.grad * learning_rate\n",
    "            bias -= bias.grad * learning_rate\n",
    "            weight.grad.zero_()\n",
    "            bias.grad.zero_()\n",
    " \n",
    "    if epoch % log_epochs==0:\n",
    "        print(f'Epoch {epoch}  Loss {loss.item():.4f}')"
   ]
  },
  {
   "cell_type": "markdown",
   "metadata": {},
   "source": [
    "We plot our fitted model..."
   ]
  },
  {
   "cell_type": "code",
   "execution_count": 10,
   "metadata": {},
   "outputs": [
    {
     "name": "stdout",
     "output_type": "stream",
     "text": [
      "Final Parameters: 2.6696107387542725 4.879678249359131\n"
     ]
    },
    {
     "data": {
      "image/png": "[encoded data removed]",
      "text/plain": [
       "<Figure size 936x360 with 1 Axes>"
      ]
     },
     "metadata": {
      "needs_background": "light"
     },
     "output_type": "display_data"
    }
   ],
   "source": [
    "print('Final Parameters:', weight.item(), bias.item())\n",
    " \n",
    "X_test = np.linspace(0, 9, num=100, dtype='float32').reshape(-1, 1)\n",
    "X_test_norm = (X_test - np.mean(X_train)) / np.std(X_train)\n",
    "X_test_norm = torch.from_numpy(X_test_norm)\n",
    "y_pred = model(X_test_norm).detach().numpy()\n",
    "\n",
    "\n",
    "fig = plt.figure(figsize=(13, 5))\n",
    "ax = fig.add_subplot(1, 2, 1)\n",
    "plt.plot(X_train_norm, y_train, 'o', markersize=10)\n",
    "plt.plot(X_test_norm, y_pred, '--', lw=3)\n",
    "plt.legend(['Training examples', 'Linear Reg.'], fontsize=15)\n",
    "ax.set_xlabel('x', size=15)\n",
    "ax.set_ylabel('y', size=15)\n",
    "ax.tick_params(axis='both', which='major', labelsize=15)\n",
    " \n",
    "\n",
    "plt.show()"
   ]
  },
  {
   "cell_type": "markdown",
   "metadata": {},
   "source": [
    "### Model training via the torch.nn and torch.optim modules\n",
    "\n",
    "With these subpackages of pytorch, we can write less code to fit our linear regression!"
   ]
  },
  {
   "cell_type": "code",
   "execution_count": 11,
   "metadata": {},
   "outputs": [],
   "source": [
    "class LinearRegression(nn.Module):\n",
    "\n",
    "    def __init__(self, input_dim):\n",
    "        super(LinearRegression, self).__init__()\n",
    "        self.lin = nn.Linear(input_dim, 1)\n",
    "\n",
    "    def forward(self, x):\n",
    "        return self.lin(x)"
   ]
  },
  {
   "cell_type": "code",
   "execution_count": 12,
   "metadata": {},
   "outputs": [
    {
     "name": "stderr",
     "output_type": "stream",
     "text": [
      "/Users/victorgallego/miniforge3/lib/python3.9/site-packages/transformers/utils/generic.py:441: UserWarning: torch.utils._pytree._register_pytree_node is deprecated. Please use torch.utils._pytree.register_pytree_node instead.\n",
      "  _torch_pytree._register_pytree_node(\n",
      "/Users/victorgallego/miniforge3/lib/python3.9/site-packages/torch/nn/modules/loss.py:535: UserWarning: Using a target size (torch.Size([1])) that is different to the input size (torch.Size([1, 1])). This will likely lead to incorrect results due to broadcasting. Please ensure they have the same size.\n",
      "  return F.mse_loss(input, target, reduction=self.reduction)\n"
     ]
    },
    {
     "name": "stdout",
     "output_type": "stream",
     "text": [
      "Epoch 0  Loss 24.6684\n",
      "Epoch 10  Loss 29.1377\n",
      "Epoch 20  Loss 20.9207\n",
      "Epoch 30  Loss 0.1257\n",
      "Epoch 40  Loss 12.4922\n",
      "Epoch 50  Loss 1.7845\n",
      "Epoch 60  Loss 7.6425\n",
      "Epoch 70  Loss 2.5606\n",
      "Epoch 80  Loss 0.0157\n",
      "Epoch 90  Loss 0.7548\n",
      "Epoch 100  Loss 0.8412\n",
      "Epoch 110  Loss 0.4923\n",
      "Epoch 120  Loss 0.0823\n",
      "Epoch 130  Loss 0.0794\n",
      "Epoch 140  Loss 0.0891\n",
      "Epoch 150  Loss 0.0973\n",
      "Epoch 160  Loss 0.1043\n",
      "Epoch 170  Loss 0.1103\n",
      "Epoch 180  Loss 0.0009\n",
      "Epoch 190  Loss 0.0764\n"
     ]
    }
   ],
   "source": [
    "import torch.nn as nn\n",
    "\n",
    "input_size = 1 # since we have only one feature (a scalar)\n",
    "model = LinearRegression(input_size)\n",
    "\n",
    "# loss function for regression is mean squared error\n",
    "loss_fn = nn.MSELoss(reduction='mean')\n",
    "\n",
    "optimizer = torch.optim.SGD(model.parameters(), lr=learning_rate)\n",
    "\n",
    "for epoch in range(num_epochs):\n",
    "    for x_batch, y_batch in train_dl:\n",
    "        # 1. Generate predictions\n",
    "        pred = model(x_batch)\n",
    "\n",
    "        # 2. Calculate loss\n",
    "        loss = loss_fn(pred, y_batch)\n",
    "\n",
    "        # 3. Compute gradients\n",
    "        loss.backward()\n",
    "\n",
    "        # 4. Update parameters using gradients\n",
    "        optimizer.step()\n",
    "\n",
    "        # 5. Reset the gradients to zero\n",
    "        optimizer.zero_grad()\n",
    "        \n",
    "    if epoch % log_epochs==0:\n",
    "        print(f'Epoch {epoch}  Loss {loss.item():.4f}')"
   ]
  },
  {
   "cell_type": "markdown",
   "metadata": {},
   "source": [
    "**Note that now we have to write less in the previous cell..**"
   ]
  },
  {
   "cell_type": "code",
   "execution_count": 13,
   "metadata": {},
   "outputs": [
    {
     "name": "stdout",
     "output_type": "stream",
     "text": [
      "Final Parameters: 2.6496422290802 4.87706995010376\n"
     ]
    },
    {
     "data": {
      "image/png": "[encoded data removed]",
      "text/plain": [
       "<Figure size 936x360 with 1 Axes>"
      ]
     },
     "metadata": {
      "needs_background": "light"
     },
     "output_type": "display_data"
    }
   ],
   "source": [
    "print('Final Parameters:', model.lin.weight.item(), model.lin.bias.item())\n",
    " \n",
    "X_test = np.linspace(0, 9, num=100, dtype='float32').reshape(-1, 1)\n",
    "X_test_norm = (X_test - np.mean(X_train)) / np.std(X_train)\n",
    "X_test_norm = torch.from_numpy(X_test_norm)\n",
    "y_pred = model(X_test_norm).detach().numpy()\n",
    "\n",
    "\n",
    "fig = plt.figure(figsize=(13, 5))\n",
    "ax = fig.add_subplot(1, 2, 1)\n",
    "plt.plot(X_train_norm.detach().numpy(), y_train.detach().numpy(), 'o', markersize=10)\n",
    "plt.plot(X_test_norm, y_pred, '--', lw=3)\n",
    "plt.legend(['Training examples', 'Linear reg.'], fontsize=15)\n",
    "ax.set_xlabel('x', size=15)\n",
    "ax.set_ylabel('y', size=15)\n",
    "ax.tick_params(axis='both', which='major', labelsize=15)\n",
    " \n",
    "plt.show()"
   ]
  },
  {
   "cell_type": "markdown",
   "metadata": {},
   "source": [
    "**Question**: Why the final parameter values are not the same as the ones we obtained in the earlier example?"
   ]
  },
  {
   "cell_type": "markdown",
   "metadata": {},
   "source": [
    "\n",
    "\n"
   ]
  },
  {
   "cell_type": "markdown",
   "metadata": {},
   "source": [
    "## Building a neural network for classifying flowers in the Iris dataset\n",
    "\n",
    "Now, let's move to a classification example, using a well-known dataset: the Iris dataset."
   ]
  },
  {
   "cell_type": "markdown",
   "metadata": {},
   "source": [
    "Firstly, we load the data and split it into training and test sets."
   ]
  },
  {
   "cell_type": "code",
   "execution_count": 14,
   "metadata": {},
   "outputs": [],
   "source": [
    "from sklearn.datasets import load_iris\n",
    "from sklearn.model_selection import train_test_split \n",
    "\n",
    "iris = load_iris()\n",
    "X = iris['data']\n",
    "y = iris['target']\n",
    " \n",
    "X_train, X_test, y_train, y_test = train_test_split(\n",
    "    X, y, test_size=1./3, random_state=1)"
   ]
  },
  {
   "cell_type": "markdown",
   "metadata": {},
   "source": [
    "We normalize the data as before, convert to pytorch tensors and create a DataLoader."
   ]
  },
  {
   "cell_type": "code",
   "execution_count": 15,
   "metadata": {},
   "outputs": [],
   "source": [
    "from torch.utils.data import TensorDataset\n",
    "from torch.utils.data import DataLoader\n",
    "\n",
    "X_train_norm = (X_train - np.mean(X_train)) / np.std(X_train)\n",
    "X_train_norm = torch.from_numpy(X_train_norm).float()\n",
    "y_train = torch.from_numpy(y_train) \n",
    "\n",
    "train_ds = TensorDataset(X_train_norm, y_train)\n",
    "\n",
    "torch.manual_seed(1)\n",
    "batch_size = 2\n",
    "train_dl = DataLoader(train_ds, batch_size, shuffle=True)"
   ]
  },
  {
   "cell_type": "markdown",
   "metadata": {},
   "source": [
    "**Note** Now the batch_size is 2, so each time we iterate over the data, we get 2 examples:"
   ]
  },
  {
   "cell_type": "code",
   "execution_count": 16,
   "metadata": {},
   "outputs": [
    {
     "name": "stdout",
     "output_type": "stream",
     "text": [
      "x: tensor([[ 1.1447, -0.4353,  0.0234, -1.2507],\n",
      "        [ 0.8899,  0.0234, -0.9959, -1.6585]]) y: tensor([1, 0])\n"
     ]
    }
   ],
   "source": [
    "for x, y in train_dl:\n",
    "    print('x:', x, 'y:', y)\n",
    "    break"
   ]
  },
  {
   "cell_type": "markdown",
   "metadata": {},
   "source": [
    "Now, let's define our neural network, using two linear layers.\n",
    "\n",
    "**New**: since this is a 3-class classification problem, note we introduce one final activation function, which is the softmax. This function converts its input into a probability distribution, so that the sum of all the elements is 1."
   ]
  },
  {
   "cell_type": "code",
   "execution_count": 17,
   "metadata": {},
   "outputs": [],
   "source": [
    "class NeuralNetwork(nn.Module):\n",
    "    def __init__(self, input_size, hidden_size, output_size):\n",
    "        super().__init__()\n",
    "        self.layer1 = nn.Linear(input_size, hidden_size)  \n",
    "        self.layer2 = nn.Linear(hidden_size, output_size)\n",
    "        \n",
    "    def forward(self, x):\n",
    "        x = self.layer1(x)\n",
    "        x = nn.ReLU()(x)\n",
    "        x = self.layer2(x)\n",
    "        x = nn.Softmax(dim=1)(x)  # normalize so the dimensions of the output vector sum to 1\n",
    "        return x"
   ]
  },
  {
   "cell_type": "code",
   "execution_count": 18,
   "metadata": {},
   "outputs": [
    {
     "name": "stdout",
     "output_type": "stream",
     "text": [
      "tensor([0.0900, 0.2447, 0.6652])\n"
     ]
    }
   ],
   "source": [
    "# an example of what the softmax function does:\n",
    "\n",
    "x = torch.tensor([1., 2, 3])\n",
    "\n",
    "y = nn.Softmax(dim=0)(x)\n",
    "\n",
    "print(y)"
   ]
  },
  {
   "cell_type": "markdown",
   "metadata": {},
   "source": [
    "This means that the first component is transformed into 9% probability, the second into 24%, and the final one into 67% probability."
   ]
  },
  {
   "cell_type": "code",
   "execution_count": 19,
   "metadata": {},
   "outputs": [
    {
     "name": "stdout",
     "output_type": "stream",
     "text": [
      "tensor([2.0612e-09, 2.0612e-09, 1.0000e+00])\n"
     ]
    }
   ],
   "source": [
    "x = torch.tensor([-10., -10, 10])\n",
    "\n",
    "y = nn.Softmax(dim=0)(x)\n",
    "\n",
    "print(y)"
   ]
  },
  {
   "cell_type": "markdown",
   "metadata": {},
   "source": [
    "This means that the first component is transformed into ~0% probability, the second into  ~0%, and the final one into ~100% probability."
   ]
  },
  {
   "cell_type": "markdown",
   "metadata": {},
   "source": [
    "**In classification problems, if we use the softmax as the final activation function, then we can interpret the output as the probabilities of belonging to each class**"
   ]
  },
  {
   "cell_type": "markdown",
   "metadata": {},
   "source": [
    "Now, we define all the shapes: \n",
    "* The first layer, has 4 inputs (the number of features in the dataset), and 16 outputs.\n",
    "* The second layer, has 16 inputs (the number of outputs of the previous layer), and 3 outputs (the number of classes)."
   ]
  },
  {
   "cell_type": "code",
   "execution_count": 20,
   "metadata": {},
   "outputs": [],
   "source": [
    "input_size = X_train_norm.shape[1]\n",
    "hidden_size = 16\n",
    "output_size = 3\n",
    " \n",
    "model = NeuralNetwork(input_size, hidden_size, output_size)\n",
    "\n",
    "learning_rate = 0.01\n",
    "\n",
    "# this is the loss function for classification with softmax\n",
    "loss_fn = nn.CrossEntropyLoss()\n",
    " \n",
    "optimizer = torch.optim.SGD(model.parameters(), lr=learning_rate)"
   ]
  },
  {
   "cell_type": "code",
   "execution_count": 21,
   "metadata": {},
   "outputs": [],
   "source": [
    "num_epochs = 100\n",
    "# these lists are used for logging later and plotting the results.\n",
    "loss_hist = [0] * num_epochs  \n",
    "accuracy_hist = [0] * num_epochs\n",
    "\n",
    "for epoch in range(num_epochs):\n",
    "\n",
    "    for x_batch, y_batch in train_dl:\n",
    "        pred = model(x_batch)\n",
    "        loss = loss_fn(pred, y_batch.long())\n",
    "        loss.backward()\n",
    "        optimizer.step()\n",
    "        optimizer.zero_grad()\n",
    "    \n",
    "        loss_hist[epoch] += loss.item()*y_batch.size(0)\n",
    "        is_correct = (torch.argmax(pred, dim=1) == y_batch).float()\n",
    "        accuracy_hist[epoch] += is_correct.sum()\n",
    "        \n",
    "    loss_hist[epoch] /= len(train_dl.dataset)\n",
    "    accuracy_hist[epoch] /= len(train_dl.dataset)"
   ]
  },
  {
   "cell_type": "markdown",
   "metadata": {},
   "source": [
    "Let's plot how the loss value changes over training time.\n",
    "And also how the (training) accuracy changes over training time."
   ]
  },
  {
   "cell_type": "code",
   "execution_count": 22,
   "metadata": {},
   "outputs": [
    {
     "data": {
      "image/png": "[encoded data removed]",
      "text/plain": [
       "<Figure size 864x360 with 2 Axes>"
      ]
     },
     "metadata": {
      "needs_background": "light"
     },
     "output_type": "display_data"
    }
   ],
   "source": [
    "fig = plt.figure(figsize=(12, 5))\n",
    "ax = fig.add_subplot(1, 2, 1)\n",
    "ax.plot(loss_hist, lw=3)\n",
    "ax.set_title('Training loss', size=15)\n",
    "ax.set_xlabel('Epoch', size=15)\n",
    "ax.tick_params(axis='both', which='major', labelsize=15)\n",
    "\n",
    "ax = fig.add_subplot(1, 2, 2)\n",
    "ax.plot(accuracy_hist, lw=3)\n",
    "ax.set_title('Training accuracy', size=15)\n",
    "ax.set_xlabel('Epoch', size=15)\n",
    "ax.tick_params(axis='both', which='major', labelsize=15)\n",
    "plt.tight_layout()\n",
    "\n",
    " \n",
    "plt.show()"
   ]
  },
  {
   "cell_type": "markdown",
   "metadata": {},
   "source": [
    "* The spikes you can see in the accuracy plot are the result of the stochastic part in gradient descent. Since at each iteration we use a random subset of the training data, the accuracy can go up and down, depending on how \"hard\" or \"easy\" are the examples of that batch."
   ]
  },
  {
   "cell_type": "markdown",
   "metadata": {},
   "source": [
    "Now, let's compute predictions over the test set, and compute the accuracy."
   ]
  },
  {
   "cell_type": "code",
   "execution_count": 23,
   "metadata": {},
   "outputs": [
    {
     "name": "stdout",
     "output_type": "stream",
     "text": [
      "Test Acc.: 0.9800\n"
     ]
    }
   ],
   "source": [
    "X_test_norm = (X_test - np.mean(X_train)) / np.std(X_train)\n",
    "X_test_norm = torch.from_numpy(X_test_norm).float()\n",
    "y_test = torch.from_numpy(y_test) \n",
    "pred_test = model(X_test_norm)\n",
    "\n",
    "correct = (torch.argmax(pred_test, dim=1) == y_test).float()\n",
    "accuracy = correct.mean()\n",
    " \n",
    "print(f'Test Acc.: {accuracy:.4f}')"
   ]
  },
  {
   "cell_type": "markdown",
   "metadata": {},
   "source": [
    "**Exercise 1**: Which test accuracy you get when using a logistic regression (in pytorch)?"
   ]
  },
  {
   "cell_type": "code",
   "execution_count": 28,
   "metadata": {},
   "outputs": [],
   "source": [
    "class LogisticRegression(nn.Module):\n",
    "    def __init__(self):\n",
    "        super().__init__()\n",
    "        self.layer1 = nn.Linear(4, 3)  \n",
    "        \n",
    "        \n",
    "    def forward(self, x):\n",
    "        x = self.layer1(x)\n",
    "        x = nn.Softmax(dim=1)(x)  # normalize so the dimensions of the output vector sum to 1\n",
    "        return x"
   ]
  },
  {
   "cell_type": "code",
   "execution_count": 29,
   "metadata": {},
   "outputs": [],
   "source": [
    "input_size = X_train_norm.shape[1]\n",
    "hidden_size = 16\n",
    "output_size = 3\n",
    " \n",
    "model = LogisticRegression()\n",
    "\n",
    "learning_rate = 0.01\n",
    "\n",
    "# this is the loss function for classification with softmax\n",
    "loss_fn = nn.CrossEntropyLoss()\n",
    " \n",
    "optimizer = torch.optim.SGD(model.parameters(), lr=learning_rate)"
   ]
  },
  {
   "cell_type": "code",
   "execution_count": 30,
   "metadata": {},
   "outputs": [],
   "source": [
    "num_epochs = 100\n",
    "# these lists are used for logging later and plotting the results.\n",
    "loss_hist = [0] * num_epochs  \n",
    "accuracy_hist = [0] * num_epochs\n",
    "\n",
    "for epoch in range(num_epochs):\n",
    "\n",
    "    for x_batch, y_batch in train_dl:\n",
    "        pred = model(x_batch)\n",
    "        loss = loss_fn(pred, y_batch.long())\n",
    "        loss.backward()\n",
    "        optimizer.step()\n",
    "        optimizer.zero_grad()\n",
    "    \n",
    "        loss_hist[epoch] += loss.item()*y_batch.size(0)\n",
    "        is_correct = (torch.argmax(pred, dim=1) == y_batch).float()\n",
    "        accuracy_hist[epoch] += is_correct.sum()\n",
    "        \n",
    "    loss_hist[epoch] /= len(train_dl.dataset)\n",
    "    accuracy_hist[epoch] /= len(train_dl.dataset)"
   ]
  },
  {
   "cell_type": "code",
   "execution_count": 31,
   "metadata": {},
   "outputs": [
    {
     "data": {
      "image/png": "[encoded data removed]",
      "text/plain": [
       "<Figure size 864x360 with 2 Axes>"
      ]
     },
     "metadata": {
      "needs_background": "light"
     },
     "output_type": "display_data"
    }
   ],
   "source": [
    "fig = plt.figure(figsize=(12, 5))\n",
    "ax = fig.add_subplot(1, 2, 1)\n",
    "ax.plot(loss_hist, lw=3)\n",
    "ax.set_title('Training loss', size=15)\n",
    "ax.set_xlabel('Epoch', size=15)\n",
    "ax.tick_params(axis='both', which='major', labelsize=15)\n",
    "\n",
    "ax = fig.add_subplot(1, 2, 2)\n",
    "ax.plot(accuracy_hist, lw=3)\n",
    "ax.set_title('Training accuracy', size=15)\n",
    "ax.set_xlabel('Epoch', size=15)\n",
    "ax.tick_params(axis='both', which='major', labelsize=15)\n",
    "plt.tight_layout()\n",
    "\n",
    " \n",
    "plt.show()"
   ]
  },
  {
   "cell_type": "code",
   "execution_count": 33,
   "metadata": {},
   "outputs": [
    {
     "name": "stdout",
     "output_type": "stream",
     "text": [
      "Test Acc.: 0.9400\n"
     ]
    }
   ],
   "source": [
    "X_test_norm = (X_test - np.mean(X_train)) / np.std(X_train)\n",
    "X_test_norm = torch.from_numpy(X_test_norm).float()\n",
    "y_test = y_test \n",
    "pred_test = model(X_test_norm)\n",
    "\n",
    "correct = (torch.argmax(pred_test, dim=1) == y_test).float()\n",
    "accuracy = correct.mean()\n",
    " \n",
    "print(f'Test Acc.: {accuracy:.4f}')"
   ]
  },
  {
   "cell_type": "markdown",
   "metadata": {},
   "source": [
    "### Useful things with pytorch\n",
    "\n",
    "\n",
    "**1. Model examination**\n",
    "\n",
    "Just print the model object and you will see the structure of the model, with all the dimensions of the parameters.*"
   ]
  },
  {
   "cell_type": "code",
   "execution_count": 27,
   "metadata": {},
   "outputs": [
    {
     "data": {
      "text/plain": [
       "NeuralNetwork(\n",
       "  (layer1): Linear(in_features=4, out_features=16, bias=True)\n",
       "  (layer2): Linear(in_features=16, out_features=3, bias=True)\n",
       ")"
      ]
     },
     "execution_count": 27,
     "metadata": {},
     "output_type": "execute_result"
    }
   ],
   "source": [
    "model"
   ]
  },
  {
   "cell_type": "code",
   "execution_count": 34,
   "metadata": {},
   "outputs": [
    {
     "data": {
      "text/plain": [
       "LogisticRegression(\n",
       "  (layer1): Linear(in_features=4, out_features=3, bias=True)\n",
       ")"
      ]
     },
     "execution_count": 34,
     "metadata": {},
     "output_type": "execute_result"
    }
   ],
   "source": [
    "model"
   ]
  },
  {
   "cell_type": "markdown",
   "metadata": {},
   "source": [
    "**2. Saving the model to disk**\n",
    "\n",
    "Useful to save the model automatically after a training run, so that you can use it later."
   ]
  },
  {
   "cell_type": "code",
   "execution_count": 35,
   "metadata": {},
   "outputs": [],
   "source": [
    "torch.save(model.state_dict(), \"model.bin\")"
   ]
  },
  {
   "cell_type": "markdown",
   "metadata": {},
   "source": [
    "**3. Loading the model from disk**\n",
    "\n",
    "First, you have to instantiate the model class, then load the parameters from disk."
   ]
  },
  {
   "cell_type": "code",
   "execution_count": 37,
   "metadata": {},
   "outputs": [
    {
     "data": {
      "text/plain": [
       "<All keys matched successfully>"
      ]
     },
     "execution_count": 37,
     "metadata": {},
     "output_type": "execute_result"
    }
   ],
   "source": [
    "model = LogisticRegression()\n",
    "model.load_state_dict(torch.load(\"model.bin\"))"
   ]
  },
  {
   "cell_type": "code",
   "execution_count": null,
   "metadata": {},
   "outputs": [],
   "source": []
  },
  {
   "cell_type": "markdown",
   "metadata": {},
   "source": [
    "### Concluding remarks\n",
    "\n",
    "**A (feed-forward) neural network is just a mathematical function that takes some input vector (the features of our data), and then progressively transforms it, chaning the dimensions by applying several layers (linear transformations + non-linear activation functions) sequentially, until producing the final output (the prediction).**\n",
    "\n",
    "This is an example of the diagram of a neural network:\n",
    "\n",
    "![image](images/nn.jpg)"
   ]
  },
  {
   "cell_type": "markdown",
   "metadata": {},
   "source": []
  }
 ],
 "metadata": {
  "kernelspec": {
   "display_name": "base",
   "language": "python",
   "name": "python3"
  },
  "language_info": {
   "codemirror_mode": {
    "name": "ipython",
    "version": 3
   },
   "file_extension": ".py",
   "mimetype": "text/x-python",
   "name": "python",
   "nbconvert_exporter": "python",
   "pygments_lexer": "ipython3",
   "version": "3.9.7"
  }
 },
 "nbformat": 4,
 "nbformat_minor": 2
}