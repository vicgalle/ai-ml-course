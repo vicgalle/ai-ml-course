{
 "cells": [
  {
   "cell_type": "markdown",
   "metadata": {},
   "source": [
    "# Our first Generative AI application\n",
    "\n",
    "For this experiment, we will use the GPT-4-Vision multimodal model. We do not have direct access to the parameters of the model, so instead, we interact with it through an API.\n",
    "\n",
    "This is a deep-learning based model, which takes two inputs: and image, and some text describing a task or question. The model processes both, and then outputs a response.\n",
    "\n",
    "For the moment, we won't go into the details (that is the matter of the whole course!), but we can start playing with it right away.\n",
    "\n",
    "![GPT-4-Vision](https://media.licdn.com/dms/image/D5622AQFG8oaKzJdh-A/feedshare-shrink_800/0/1697201062338?e=2147483647&v=beta&t=KvgfdmBhdAsyxLi3tp_qnS99Xh3Hr8WbqXaMf0iD_ZI)"
   ]
  },
  {
   "cell_type": "code",
   "execution_count": 14,
   "metadata": {},
   "outputs": [],
   "source": [
    "# You need to install the OpenAI library:\n",
    "#pip install --upgrade openai\n",
    "from openai import OpenAI\n",
    "import os\n",
    "\n",
    "# Write your OpenAI API key here\n",
    "os.environ[\"OPENAI_API_KEY\"] = \"sk-...\"\n",
    "\n",
    "client = OpenAI()"
   ]
  },
  {
   "cell_type": "markdown",
   "metadata": {},
   "source": [
    "Let's define a function to interact with the GPT-4-Vision API.\n",
    "\n",
    "It takes as inputs:\n",
    "* The image_url\n",
    "* The textual prompt with our query"
   ]
  },
  {
   "cell_type": "code",
   "execution_count": 15,
   "metadata": {},
   "outputs": [],
   "source": [
    "def compute_response(image_url, prompt):\n",
    "    response = client.chat.completions.create(\n",
    "        model=\"gpt-4-vision-preview\",\n",
    "        messages=[\n",
    "            {\n",
    "                \"role\": \"user\",\n",
    "                \"content\": [\n",
    "                    {\"type\": \"text\", \"text\": prompt},\n",
    "                    {\n",
    "                        \"type\": \"image_url\",\n",
    "                        \"image_url\": image_url,\n",
    "                    },\n",
    "                ],\n",
    "            }\n",
    "        ],\n",
    "        max_tokens=500,\n",
    "    )\n",
    "    return response.choices[0].message.content"
   ]
  },
  {
   "cell_type": "code",
   "execution_count": 16,
   "metadata": {},
   "outputs": [
    {
     "data": {
      "text/html": [
       "<img src=\"https://pbs.twimg.com/media/FrSGyS9WIAMLGbe?format=jpg&name=small\" width=\"500\" class=\"unconfined\"/>"
      ],
      "text/plain": [
       "<IPython.core.display.Image object>"
      ]
     },
     "metadata": {},
     "output_type": "display_data"
    }
   ],
   "source": [
    "from IPython.core.display import Image, display\n",
    "display(Image(url='https://pbs.twimg.com/media/FrSGyS9WIAMLGbe?format=jpg&name=small', width=500, unconfined=True))"
   ]
  },
  {
   "cell_type": "code",
   "execution_count": null,
   "metadata": {},
   "outputs": [],
   "source": []
  },
  {
   "cell_type": "code",
   "execution_count": 17,
   "metadata": {},
   "outputs": [],
   "source": [
    "image_url = \"https://pbs.twimg.com/media/FrSGyS9WIAMLGbe?format=jpg&name=small\"\n",
    "prompt = \"Describe what is in this photo\"\n",
    "\n",
    "response = compute_response(image_url, prompt)"
   ]
  },
  {
   "cell_type": "code",
   "execution_count": 18,
   "metadata": {},
   "outputs": [
    {
     "name": "stdout",
     "output_type": "stream",
     "text": [
      "This is a photo of the inside of a refrigerator with various food items stored on its shelves. On the top shelf, there is a carton of eggs, a couple of brown muffins or round pastries, and a jug of milk next to a stack of blue-and-white striped cups or bowls. The middle shelf features a box of blueberries, a bunch of green grapes, several oranges, and what appear to be individually wrapped cheese portions to the left. On the bottom shelf, there are more food storage containers, some of which contain meats and others that are not clearly visible in terms of their contents. The design and organization of the refrigerator suggest that it's well-kept and contains a variety of fresh produce and other food items.\n"
     ]
    }
   ],
   "source": [
    "print(response)"
   ]
  },
  {
   "cell_type": "code",
   "execution_count": null,
   "metadata": {},
   "outputs": [],
   "source": []
  },
  {
   "cell_type": "markdown",
   "metadata": {},
   "source": [
    "## Creating a photo2recipe app\n",
    "\n",
    "We just have to change the prompt!"
   ]
  },
  {
   "cell_type": "code",
   "execution_count": 19,
   "metadata": {},
   "outputs": [],
   "source": [
    "recipe_prompt = \"Based on the ingredients you can see in the photo, please write a recipe for some dish.\"\n",
    "\n",
    "recipe_answer = compute_response(image_url, recipe_prompt)"
   ]
  },
  {
   "cell_type": "code",
   "execution_count": null,
   "metadata": {},
   "outputs": [],
   "source": []
  },
  {
   "cell_type": "code",
   "execution_count": 20,
   "metadata": {},
   "outputs": [
    {
     "name": "stdout",
     "output_type": "stream",
     "text": [
      "Based on the ingredients visible in the image, I can propose a recipe for a simple fruit salad with a yogurt dressing.\n",
      "\n",
      "Fruit Salad with Yogurt Dressing\n",
      "\n",
      "Ingredients:\n",
      "- A handful of grapes\n",
      "- 1-2 oranges, depending on size\n",
      "- A container of blueberries\n",
      "- 2 avocados\n",
      "- Plain yogurt (quantity as per preference)\n",
      "- A drizzle of honey or a sprinkle of sugar for sweetness (optional)\n",
      "- A squeeze of fresh lemon or orange juice (optional)\n",
      "- Fresh mint leaves for garnish (not visible in the photo, but commonly available)\n",
      "\n",
      "Instructions:\n",
      "1. Carefully wash the grapes and blueberries and allow them to dry.\n",
      "2. Peel the oranges, removing as much of the white pith as possible, and segment them. Cut the segments into smaller pieces if desired.\n",
      "3. Halve the avocados, remove the pits, and carefully scoop out the flesh. Cut the avocado into bite-sized chunks.\n",
      "4. In a large mixing bowl, gently toss together the grapes, blueberry pieces, orange segments, and avocado chunks.\n",
      "5. In a separate small bowl, combine the plain yogurt with a drizzle of honey or a sprinkle of sugar, and a squeeze of fresh lemon or orange juice to taste. Whisk until well blended.\n",
      "6. Drizzle the yogurt dressing over the fruit just before serving. Give it a gentle toss to coat the fruit evenly.\n",
      "7. Garnish with fresh mint leaves if available.\n",
      "8. Serve immediately and enjoy!\n",
      "\n",
      "Note: Adjust the quantities of each fruit according to your preference or the number of servings needed. If you want to make this ahead of time, mix in the avocado and the yogurt dressing at the last minute to prevent browning and to keep the fruit fresh.\n"
     ]
    }
   ],
   "source": [
    "print(recipe_answer)"
   ]
  },
  {
   "cell_type": "code",
   "execution_count": null,
   "metadata": {},
   "outputs": [],
   "source": []
  },
  {
   "cell_type": "markdown",
   "metadata": {},
   "source": [
    "Let's try with another photo:"
   ]
  },
  {
   "cell_type": "code",
   "execution_count": 25,
   "metadata": {},
   "outputs": [
    {
     "data": {
      "text/html": [
       "<img src=\"https://images.fineartamerica.com/images-medium-large-5/table-laid-with-ingredients-and-utensils-manuel-sulzer.jpg\" width=\"500\" class=\"unconfined\"/>"
      ],
      "text/plain": [
       "<IPython.core.display.Image object>"
      ]
     },
     "metadata": {},
     "output_type": "display_data"
    }
   ],
   "source": [
    "from IPython.core.display import Image, display\n",
    "display(Image(url='https://images.fineartamerica.com/images-medium-large-5/table-laid-with-ingredients-and-utensils-manuel-sulzer.jpg', width=500, unconfined=True))"
   ]
  },
  {
   "cell_type": "code",
   "execution_count": 26,
   "metadata": {},
   "outputs": [],
   "source": [
    "image_url = \"https://images.fineartamerica.com/images-medium-large-5/table-laid-with-ingredients-and-utensils-manuel-sulzer.jpg\"\n",
    "\n",
    "recipe_answer = compute_response(image_url, recipe_prompt)"
   ]
  },
  {
   "cell_type": "code",
   "execution_count": 27,
   "metadata": {},
   "outputs": [
    {
     "name": "stdout",
     "output_type": "stream",
     "text": [
      "Based on the ingredients in the photo, it looks like a perfect set-up for creating a classic hamburger. Here's a simple recipe:\n",
      "\n",
      "Classic Hamburger Recipe:\n",
      "\n",
      "Ingredients:\n",
      "- Ground beef (about 1 pound for four burgers)\n",
      "- Hamburger buns (four)\n",
      "- Lettuce\n",
      "- Tomato\n",
      "- Onion (purple ones seen here)\n",
      "- Carrots\n",
      "- Pickles\n",
      "- Eggs (optional, for making the patties extra juicy)\n",
      "- Milk (optional, can be used for the burger patties mixture)\n",
      "- Garlic\n",
      "- Butter (for toasting buns)\n",
      "- Salt and pepper\n",
      "- Cheese (not visible in the photo, but a common ingredient in burgers)\n",
      "- Oil for cooking\n",
      "- Any other preferred seasonings (like the thyme seen here)\n",
      "\n",
      "Instructions:\n",
      "\n",
      "1. Prepare the Vegetables:\n",
      "   - Wash the lettuce and set it aside to dry.\n",
      "   - Slice the tomatoes and onions for toppings.\n",
      "   - Shred the carrots for additional burger topping if desired or serve on the side.\n",
      "\n",
      "2. Make the Burger Patties:\n",
      "   - In a bowl, mix the ground beef, finely minced garlic, salt, pepper, and, if you like, an egg for binding. You can also add a splash of milk if you prefer.\n",
      "   - Divide the meat into four equal portions and shape them into patties.\n",
      "\n",
      "3. Cook the Burgers:\n",
      "   - Heat a pan or grill to medium-high heat and add a bit of oil.\n",
      "   - Place your burger patties on the hot pan/grill and cook for about 3-4 minutes on one side.\n",
      "   - Flip the patties and cook for another 3 minutes for medium-rare. Cook for a longer time if you prefer your burgers more well done.\n",
      "   - If you're adding cheese, place a slice on each patty when it's almost done and allow it to melt.\n",
      "\n",
      "4. Toast the Buns:\n",
      "   - Split the buns in half.\n",
      "   - Spread a little butter on each cut side.\n",
      "   - Toast the buns on the pan/grill until they're lightly browned.\n",
      "\n",
      "5. Assemble the Burgers:\n",
      "   - On the bottom half of each bun, place a piece of lettuce, followed by a slice of tomato.\n",
      "   - Add the cooked burger patty with melted cheese.\n",
      "   - Top with onion, pickles, and shredded carrots if desired.\n",
      "   - Cover with the top half of the bun.\n",
      "\n",
      "Serve with your favorite\n"
     ]
    }
   ],
   "source": [
    "print(recipe_answer)"
   ]
  },
  {
   "cell_type": "code",
   "execution_count": null,
   "metadata": {},
   "outputs": [],
   "source": []
  },
  {
   "cell_type": "markdown",
   "metadata": {},
   "source": [
    "## Can you think of other applications?"
   ]
  },
  {
   "cell_type": "code",
   "execution_count": 28,
   "metadata": {},
   "outputs": [],
   "source": [
    "image_url = \"https://images.fineartamerica.com/images-medium-large-5/table-laid-with-ingredients-and-utensils-manuel-sulzer.jpg\"\n",
    "\n",
    "prompt = \"For each ingredient in the photo, output a healthy score from 0 to 5\"\n",
    "recipe_answer = compute_response(image_url, prompt)"
   ]
  },
  {
   "cell_type": "code",
   "execution_count": 29,
   "metadata": {},
   "outputs": [
    {
     "name": "stdout",
     "output_type": "stream",
     "text": [
      "It's important to note that a \"healthy score\" is subjective and can vary depending on an individual's dietary needs, allergies, and health goals. However, I can provide a general scoring based on the nutritional content and health benefits generally associated with each food item.\n",
      "\n",
      "Starting from the top left and moving right:\n",
      "\n",
      "1. Leafy greens (such as lettuce) - Score: 5 (Rich in vitamins, minerals, and fiber. Low in calories.)\n",
      "2. Cheese - Score: 3 (Contains calcium and protein but also saturated fat. Score may vary depending on type and portion size.)\n",
      "3. Eggs - Score: 4 (High-quality protein and nutrients but high in cholesterol—recommendation can vary based on individual cholesterol levels.)\n",
      "4. Pickles - Score: 2 (Low in calories but can be high in sodium.)\n",
      "5. Hamburger buns - Score: 2 (Typically made from refined grains, low in fiber and nutrients compared to whole-grain options.)\n",
      "\n",
      "Moving to the second row from left:\n",
      "\n",
      "1. Lettuce (possibly a different variety from the first) - Score: 5 (Similar reasons as the leafy greens mentioned earlier.)\n",
      "2. Fresh herbs - Score: 5 (High in phytonutrients and flavors without added calories.)\n",
      "3. Onions - Score: 4 (Nutrient-dense and fiber-rich. Beneficial for health.)\n",
      "4. Garlic - Score: 5 (Associated with numerous health benefits and very low in calories.)\n",
      "5. Ground beef - Score: 3 (Source of protein and iron, though it can be high in saturated fat. Leaner cuts would have a higher score.)\n",
      "\n",
      "Moving to the bottom row from left to right:\n",
      "\n",
      "1. Black pepper and salt - Score: 2 (Black pepper is beneficial but in moderation, while too much salt can lead to health issues.)\n",
      "2. Butter - Score: 2 (Rich in fat and calories. While it provides flavor, too much can contribute to health risks.)\n",
      "3. Carrots - Score: 5 (Rich in fiber, vitamins, and low in calories.)\n",
      "4. Tomatoes - Score: 5 (Rich in vitamins, minerals, and lycopene, a powerful antioxidant.)\n",
      "\n",
      "These scores are general assessments and should be personalized according to dietary needs. For example, individuals with specific health conditions (like hypertension) should be cautious with salty food items, while those with lactose intolerance would need to avoid or limit dairy products like cheese\n"
     ]
    }
   ],
   "source": [
    "print(recipe_answer)"
   ]
  },
  {
   "cell_type": "code",
   "execution_count": null,
   "metadata": {},
   "outputs": [],
   "source": []
  },
  {
   "cell_type": "markdown",
   "metadata": {},
   "source": [
    "For more details, you can:\n",
    "* Read the paper: https://cdn.openai.com/papers/GPTV_System_Card.pdf\n"
   ]
  },
  {
   "cell_type": "code",
   "execution_count": null,
   "metadata": {},
   "outputs": [],
   "source": []
  }
 ],
 "metadata": {
  "kernelspec": {
   "display_name": "Python 3 (ipykernel)",
   "language": "python",
   "name": "python3"
  },
  "language_info": {
   "codemirror_mode": {
    "name": "ipython",
    "version": 3
   },
   "file_extension": ".py",
   "mimetype": "text/x-python",
   "name": "python",
   "nbconvert_exporter": "python",
   "pygments_lexer": "ipython3",
   "version": "3.9.7"
  }
 },
 "nbformat": 4,
 "nbformat_minor": 2
}