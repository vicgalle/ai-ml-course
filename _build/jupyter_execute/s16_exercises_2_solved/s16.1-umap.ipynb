{
 "cells": [
  {
   "cell_type": "markdown",
   "metadata": {},
   "source": [
    "## Exercise 1: Eurovision Song Lyrics Analysis\n",
    "\n",
    "In this exercise, we will analyze the lyrics of the songs that participated in the Eurovision Song Contest from 1956 to 2023.\n",
    "\n",
    "Let's first have look at the data:"
   ]
  },
  {
   "cell_type": "code",
   "execution_count": 121,
   "metadata": {},
   "outputs": [],
   "source": [
    "import pandas as pd\n",
    "\n",
    "dataset_df = pd.read_csv('eurovision_lyrics.csv')"
   ]
  },
  {
   "cell_type": "code",
   "execution_count": 122,
   "metadata": {},
   "outputs": [
    {
     "data": {
      "text/html": [
       "<div>\n",
       "<style scoped>\n",
       "    .dataframe tbody tr th:only-of-type {\n",
       "        vertical-align: middle;\n",
       "    }\n",
       "\n",
       "    .dataframe tbody tr th {\n",
       "        vertical-align: top;\n",
       "    }\n",
       "\n",
       "    .dataframe thead th {\n",
       "        text-align: right;\n",
       "    }\n",
       "</style>\n",
       "<table border=\"1\" class=\"dataframe\">\n",
       "  <thead>\n",
       "    <tr style=\"text-align: right;\">\n",
       "      <th></th>\n",
       "      <th>host_city</th>\n",
       "      <th>lyrics</th>\n",
       "      <th>artist</th>\n",
       "      <th>language</th>\n",
       "      <th>country</th>\n",
       "      <th>eurovision_number</th>\n",
       "      <th>year</th>\n",
       "      <th>title</th>\n",
       "      <th>lyrics_english</th>\n",
       "      <th>host_country</th>\n",
       "    </tr>\n",
       "  </thead>\n",
       "  <tbody>\n",
       "    <tr>\n",
       "      <th>1716</th>\n",
       "      <td>Liverpool</td>\n",
       "      <td>YA EA EA YA EA EA (Ole!) Ay ven a mí niño mío....</td>\n",
       "      <td>Blanca Paloma</td>\n",
       "      <td>Spanish</td>\n",
       "      <td>Spain</td>\n",
       "      <td>67</td>\n",
       "      <td>2023</td>\n",
       "      <td>Eaea</td>\n",
       "      <td>Ya ea Ya ea (Ole!) Oh, come to me, child of mi...</td>\n",
       "      <td>United Kingdom</td>\n",
       "    </tr>\n",
       "    <tr>\n",
       "      <th>1717</th>\n",
       "      <td>Liverpool</td>\n",
       "      <td>I don't wanna go But baby we both know This is...</td>\n",
       "      <td>Loreen</td>\n",
       "      <td>English</td>\n",
       "      <td>Sweden</td>\n",
       "      <td>67</td>\n",
       "      <td>2023</td>\n",
       "      <td>Tattoo</td>\n",
       "      <td>I don't wanna go But baby we both know This is...</td>\n",
       "      <td>United Kingdom</td>\n",
       "    </tr>\n",
       "    <tr>\n",
       "      <th>1718</th>\n",
       "      <td>Liverpool</td>\n",
       "      <td>When we were boys We played pretend Army tanks...</td>\n",
       "      <td>Remo Forrer</td>\n",
       "      <td>English</td>\n",
       "      <td>Switzerland</td>\n",
       "      <td>67</td>\n",
       "      <td>2023</td>\n",
       "      <td>Watergun</td>\n",
       "      <td>When we were boys We played pretend Army tanks...</td>\n",
       "      <td>United Kingdom</td>\n",
       "    </tr>\n",
       "    <tr>\n",
       "      <th>1719</th>\n",
       "      <td>Liverpool</td>\n",
       "      <td>Sometimes gotta let it go Sometimes gotta look...</td>\n",
       "      <td>TVORCHI</td>\n",
       "      <td>English/Ukrainian</td>\n",
       "      <td>Ukraine</td>\n",
       "      <td>67</td>\n",
       "      <td>2023</td>\n",
       "      <td>Heart Of Steel</td>\n",
       "      <td>Sometimes gotta let it go Sometimes gotta look...</td>\n",
       "      <td>United Kingdom</td>\n",
       "    </tr>\n",
       "    <tr>\n",
       "      <th>1720</th>\n",
       "      <td>Liverpool</td>\n",
       "      <td>When you said you were leavin' To work on your...</td>\n",
       "      <td>Mae Muller</td>\n",
       "      <td>English</td>\n",
       "      <td>United Kingdom</td>\n",
       "      <td>67</td>\n",
       "      <td>2023</td>\n",
       "      <td>I Wrote A Song</td>\n",
       "      <td>When you said you were leavin' To work on your...</td>\n",
       "      <td>United Kingdom</td>\n",
       "    </tr>\n",
       "  </tbody>\n",
       "</table>\n",
       "</div>"
      ],
      "text/plain": [
       "      host_city                                             lyrics  \\\n",
       "1716  Liverpool  YA EA EA YA EA EA (Ole!) Ay ven a mí niño mío....   \n",
       "1717  Liverpool  I don't wanna go But baby we both know This is...   \n",
       "1718  Liverpool  When we were boys We played pretend Army tanks...   \n",
       "1719  Liverpool  Sometimes gotta let it go Sometimes gotta look...   \n",
       "1720  Liverpool  When you said you were leavin' To work on your...   \n",
       "\n",
       "             artist           language         country  eurovision_number  \\\n",
       "1716  Blanca Paloma            Spanish           Spain                 67   \n",
       "1717         Loreen            English          Sweden                 67   \n",
       "1718    Remo Forrer            English     Switzerland                 67   \n",
       "1719        TVORCHI  English/Ukrainian         Ukraine                 67   \n",
       "1720     Mae Muller            English  United Kingdom                 67   \n",
       "\n",
       "      year           title                                     lyrics_english  \\\n",
       "1716  2023            Eaea  Ya ea Ya ea (Ole!) Oh, come to me, child of mi...   \n",
       "1717  2023          Tattoo  I don't wanna go But baby we both know This is...   \n",
       "1718  2023        Watergun  When we were boys We played pretend Army tanks...   \n",
       "1719  2023  Heart Of Steel  Sometimes gotta let it go Sometimes gotta look...   \n",
       "1720  2023  I Wrote A Song  When you said you were leavin' To work on your...   \n",
       "\n",
       "        host_country  \n",
       "1716  United Kingdom  \n",
       "1717  United Kingdom  \n",
       "1718  United Kingdom  \n",
       "1719  United Kingdom  \n",
       "1720  United Kingdom  "
      ]
     },
     "execution_count": 122,
     "metadata": {},
     "output_type": "execute_result"
    }
   ],
   "source": [
    "dataset_df.tail()"
   ]
  },
  {
   "cell_type": "markdown",
   "metadata": {},
   "source": [
    "**a)** Do a UMAP visualization of the song lyrics, in 2D:\n",
    "\n",
    "* As the text column, use `lyrics_english`.\n",
    "* For the color of the points in the plot, use the `country` column.\n",
    "* For the hover text in the plot, use the `artist` column\n",
    "\n",
    "You may have to remove missing data."
   ]
  },
  {
   "cell_type": "code",
   "execution_count": null,
   "metadata": {},
   "outputs": [],
   "source": []
  },
  {
   "cell_type": "code",
   "execution_count": null,
   "metadata": {},
   "outputs": [],
   "source": []
  },
  {
   "cell_type": "code",
   "execution_count": null,
   "metadata": {},
   "outputs": [],
   "source": []
  },
  {
   "cell_type": "markdown",
   "metadata": {},
   "source": [
    "**b)** Is there any relationship between the contents of the lyrics of a song, and its country?"
   ]
  },
  {
   "cell_type": "code",
   "execution_count": null,
   "metadata": {},
   "outputs": [],
   "source": []
  },
  {
   "cell_type": "markdown",
   "metadata": {},
   "source": [
    "**c)** Describe how, given a song, how could you find the most similar song."
   ]
  },
  {
   "cell_type": "code",
   "execution_count": null,
   "metadata": {},
   "outputs": [],
   "source": [
    "\n",
    "\n"
   ]
  },
  {
   "cell_type": "code",
   "execution_count": null,
   "metadata": {},
   "outputs": [],
   "source": []
  }
 ],
 "metadata": {
  "kernelspec": {
   "display_name": "base",
   "language": "python",
   "name": "python3"
  },
  "language_info": {
   "codemirror_mode": {
    "name": "ipython",
    "version": 3
   },
   "file_extension": ".py",
   "mimetype": "text/x-python",
   "name": "python",
   "nbconvert_exporter": "python",
   "pygments_lexer": "ipython3",
   "version": "3.9.7"
  }
 },
 "nbformat": 4,
 "nbformat_minor": 2
}