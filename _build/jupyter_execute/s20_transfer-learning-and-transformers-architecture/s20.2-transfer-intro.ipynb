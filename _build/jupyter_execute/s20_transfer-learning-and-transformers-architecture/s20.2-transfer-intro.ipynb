{
 "cells": [
  {
   "cell_type": "markdown",
   "metadata": {},
   "source": [
    "### Transfer Learning\n",
    "\n",
    "Pretraining is the act of training a model from scratch: the weights are randomly initialized, and the training starts without any prior knowledge:\n",
    "\n",
    "![a](https://huggingface.co/datasets/huggingface-course/documentation-images/resolve/main/en/chapter1/pretraining.svg)"
   ]
  },
  {
   "cell_type": "markdown",
   "metadata": {},
   "source": [
    "This pretraining is usually done on very large amounts of data. Therefore, it requires a very large corpus of data, and training can take up to several weeks."
   ]
  },
  {
   "cell_type": "markdown",
   "metadata": {},
   "source": [
    "Fine-tuning, on the other hand, is the training done after a model has been pretrained. To perform fine-tuning, you first acquire a pretrained language model, then perform additional training with a dataset specific to your task. Wait — why not simply train the model for your final use case from the start (scratch)? There are a couple of reasons:\n",
    "\n",
    "* The pretrained model was already trained on a dataset that has some similarities with the fine-tuning dataset. The fine-tuning process is thus able to take advantage of knowledge acquired by the initial model during pretraining (for instance, with NLP problems, the pretrained model will have some kind of statistical understanding of the language you are using for your task).\n",
    "* Since the pretrained model was already trained on lots of data, the fine-tuning requires way less data to get decent results.\n",
    "* For the same reason, the amount of time and resources needed to get good results are much lower."
   ]
  },
  {
   "cell_type": "markdown",
   "metadata": {},
   "source": [
    "Fine-tuning a model therefore has lower time, data, financial, and environmental costs. It is also quicker and easier to iterate over different fine-tuning schemes, as the training is less constraining than a full pretraining.\n",
    "\n",
    "This process will also achieve better results than training from scratch (unless you have lots of data), which is why you should always try to leverage a pretrained model — one as close as possible to the task you have at hand — and fine-tune it."
   ]
  },
  {
   "cell_type": "markdown",
   "metadata": {},
   "source": [
    "## The example of the BERT model\n",
    "\n",
    "One of the latest milestones in transfer learning is the release of BERT, an event described as marking the beginning of a new era in NLP. BERT is a model that broke several records for how well models can handle language-based tasks. Soon after the release of the paper describing the model, the team also open-sourced the code of the model, and made available for download versions of the model that were already pre-trained on massive datasets. This is a momentous development since it enables anyone building a machine learning model involving language processing to use this powerhouse as a readily-available component – saving the time, energy, knowledge, and resources that would have gone to training a language-processing model from scratch.\n",
    "\n",
    "![tf1](http://jalammar.github.io/images/bert-transfer-learning.png)\n",
    "\n",
    "So we can use a new, simpler model on top of BERT, to perform our specific classification task:\n",
    "\n",
    "![tf2](http://jalammar.github.io/images/BERT-classification-spam.png)"
   ]
  },
  {
   "cell_type": "markdown",
   "metadata": {},
   "source": [
    "#### Model sizes\n",
    "\n",
    "There are several sizes of BERT models, the main difference is the number of layers (and hence, parameters)\n",
    "\n",
    "![s1](http://jalammar.github.io/images/bert-base-bert-large.png)\n",
    "\n",
    "![s2](http://jalammar.github.io/images/bert-base-bert-large-encoders.png)"
   ]
  },
  {
   "cell_type": "markdown",
   "metadata": {},
   "source": []
  }
 ],
 "metadata": {
  "language_info": {
   "name": "python"
  }
 },
 "nbformat": 4,
 "nbformat_minor": 2
}